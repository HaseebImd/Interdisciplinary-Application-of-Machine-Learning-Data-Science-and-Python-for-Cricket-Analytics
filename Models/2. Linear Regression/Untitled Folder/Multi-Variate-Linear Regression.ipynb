{
 "cells": [
  {
   "cell_type": "markdown",
   "id": "712a817c",
   "metadata": {},
   "source": [
    "<span><h1 style=\"font-family:verdana;\"><center>Multivariate Linear Regression</center></h1></span>\n",
    "<p><center style=\"color:#159364; font-family:cursive;\">Linear Regression with Multiple Variables</center></p>\n",
    "\n",
    "***\n",
    "\n"
   ]
  },
  {
   "cell_type": "markdown",
   "id": "4db69653",
   "metadata": {},
   "source": [
    " <center><h2> Multivariate Linear Regression Equation: <code>y = m<sub>1</sub>*X<sub>1</sub> + m<sub>2</sub>*X<sub>2</sub> + m<sub>3</sub>*X<sub>3</sub>+ ... m<sub>n</sub>*X<sub>n</sub>+ c</code></h2></center>"
   ]
  },
  {
   "cell_type": "markdown",
   "id": "eac0d9ac",
   "metadata": {},
   "source": [
    "<h3 style=\"color:purple\">Problem:</h3>\n",
    "<p>There is a simple problem, predicting the price of home based on area, bedroom, and area. According to this situation the equation for Linear Regression would become:</p>"
   ]
  },
  {
   "cell_type": "markdown",
   "id": "e4f2ab00",
   "metadata": {},
   "source": [
    "<img src=\"equation.jpg\" alt=\"Multivariate Linear Regression Equation\">"
   ]
  },
  {
   "cell_type": "code",
   "execution_count": 5,
   "id": "c13cadd3",
   "metadata": {},
   "outputs": [],
   "source": [
    "import pandas as pd\n",
    "import numpy as np\n",
    "from sklearn import linear_model"
   ]
  },
  {
   "cell_type": "code",
   "execution_count": 10,
   "id": "f4d613e8",
   "metadata": {},
   "outputs": [
    {
     "data": {
      "text/html": [
       "<div>\n",
       "<style scoped>\n",
       "    .dataframe tbody tr th:only-of-type {\n",
       "        vertical-align: middle;\n",
       "    }\n",
       "\n",
       "    .dataframe tbody tr th {\n",
       "        vertical-align: top;\n",
       "    }\n",
       "\n",
       "    .dataframe thead th {\n",
       "        text-align: right;\n",
       "    }\n",
       "</style>\n",
       "<table border=\"1\" class=\"dataframe\">\n",
       "  <thead>\n",
       "    <tr style=\"text-align: right;\">\n",
       "      <th></th>\n",
       "      <th>area</th>\n",
       "      <th>bedrooms</th>\n",
       "      <th>age</th>\n",
       "      <th>price</th>\n",
       "    </tr>\n",
       "  </thead>\n",
       "  <tbody>\n",
       "    <tr>\n",
       "      <th>0</th>\n",
       "      <td>2600</td>\n",
       "      <td>3.0</td>\n",
       "      <td>20</td>\n",
       "      <td>550000</td>\n",
       "    </tr>\n",
       "    <tr>\n",
       "      <th>1</th>\n",
       "      <td>3000</td>\n",
       "      <td>4.0</td>\n",
       "      <td>15</td>\n",
       "      <td>565000</td>\n",
       "    </tr>\n",
       "    <tr>\n",
       "      <th>2</th>\n",
       "      <td>3200</td>\n",
       "      <td>NaN</td>\n",
       "      <td>18</td>\n",
       "      <td>610000</td>\n",
       "    </tr>\n",
       "    <tr>\n",
       "      <th>3</th>\n",
       "      <td>3600</td>\n",
       "      <td>3.0</td>\n",
       "      <td>30</td>\n",
       "      <td>595000</td>\n",
       "    </tr>\n",
       "    <tr>\n",
       "      <th>4</th>\n",
       "      <td>4000</td>\n",
       "      <td>5.0</td>\n",
       "      <td>8</td>\n",
       "      <td>760000</td>\n",
       "    </tr>\n",
       "    <tr>\n",
       "      <th>5</th>\n",
       "      <td>4100</td>\n",
       "      <td>6.0</td>\n",
       "      <td>8</td>\n",
       "      <td>810000</td>\n",
       "    </tr>\n",
       "    <tr>\n",
       "      <th>6</th>\n",
       "      <td>4092</td>\n",
       "      <td>3.0</td>\n",
       "      <td>13</td>\n",
       "      <td>617626</td>\n",
       "    </tr>\n",
       "    <tr>\n",
       "      <th>7</th>\n",
       "      <td>3575</td>\n",
       "      <td>4.0</td>\n",
       "      <td>19</td>\n",
       "      <td>600067</td>\n",
       "    </tr>\n",
       "    <tr>\n",
       "      <th>8</th>\n",
       "      <td>3297</td>\n",
       "      <td>6.0</td>\n",
       "      <td>12</td>\n",
       "      <td>564921</td>\n",
       "    </tr>\n",
       "    <tr>\n",
       "      <th>9</th>\n",
       "      <td>2601</td>\n",
       "      <td>6.0</td>\n",
       "      <td>18</td>\n",
       "      <td>572243</td>\n",
       "    </tr>\n",
       "  </tbody>\n",
       "</table>\n",
       "</div>"
      ],
      "text/plain": [
       "   area  bedrooms  age   price\n",
       "0  2600       3.0   20  550000\n",
       "1  3000       4.0   15  565000\n",
       "2  3200       NaN   18  610000\n",
       "3  3600       3.0   30  595000\n",
       "4  4000       5.0    8  760000\n",
       "5  4100       6.0    8  810000\n",
       "6  4092       3.0   13  617626\n",
       "7  3575       4.0   19  600067\n",
       "8  3297       6.0   12  564921\n",
       "9  2601       6.0   18  572243"
      ]
     },
     "execution_count": 10,
     "metadata": {},
     "output_type": "execute_result"
    }
   ],
   "source": [
    "df = pd.read_csv('homeprices.csv')\n",
    "df.head(10)"
   ]
  },
  {
   "cell_type": "code",
   "execution_count": null,
   "id": "5924b00b",
   "metadata": {},
   "outputs": [],
   "source": []
  }
 ],
 "metadata": {
  "kernelspec": {
   "display_name": "Python 3",
   "language": "python",
   "name": "python3"
  },
  "language_info": {
   "codemirror_mode": {
    "name": "ipython",
    "version": 3
   },
   "file_extension": ".py",
   "mimetype": "text/x-python",
   "name": "python",
   "nbconvert_exporter": "python",
   "pygments_lexer": "ipython3",
   "version": "3.8.8"
  }
 },
 "nbformat": 4,
 "nbformat_minor": 5
}
