{
 "cells": [
  {
   "cell_type": "markdown",
   "id": "84322dea",
   "metadata": {},
   "source": [
    "<a id=\"top\"></a>\n",
    "<span><h1 style=\"font-family:verdana;\"><center><img src=\"https://numpy.org/images/logo.svg\" alt=\"Flowers in Chania\" width=50>NumPy</center></h1></span>\n",
    "<p><center style=\"color:#159364; font-family:cursive;\">The fundamental package for scientific computing with Python</center></p>\n",
    "\n",
    "***\n",
    "\n"
   ]
  },
  {
   "cell_type": "markdown",
   "id": "10b73da8",
   "metadata": {},
   "source": [
    "<h2><center>Installation of NumPy</center></h2>"
   ]
  },
  {
   "cell_type": "markdown",
   "id": "f2302d09",
   "metadata": {},
   "source": [
    "<h3>Requirements:</h3>\n",
    "<p>1. You need to install Python and Pip in your system</p>\n",
    "<p>2. Open your cmd and run <code>pip install numpy</code></p>\n"
   ]
  },
  {
   "cell_type": "markdown",
   "id": "66160b48",
   "metadata": {},
   "source": [
    "<h2><center>Importing NumPy</center></h2>"
   ]
  },
  {
   "cell_type": "code",
   "execution_count": 40,
   "id": "7dfbd2d8",
   "metadata": {},
   "outputs": [
    {
     "name": "stdout",
     "output_type": "stream",
     "text": [
      "[1 2 3 4 5]\n"
     ]
    }
   ],
   "source": [
    "#Importing Library\n",
    "import numpy\n",
    "\n",
    "array = numpy.array([1, 2, 3, 4, 5])\n",
    "\n",
    "print(array)"
   ]
  },
  {
   "cell_type": "markdown",
   "id": "92953130",
   "metadata": {},
   "source": [
    "<h2><center>NumPy as np</center></h2>"
   ]
  },
  {
   "cell_type": "markdown",
   "id": "f6501cc5",
   "metadata": {},
   "source": [
    "<p>1. You can also use alias instead of writing complete complete word <b>NumPy</b> again and again</p>\n",
    "<p>2. While importing you will write <code>import numpy as np</code></p>\n",
    "<p>3. Now, you can use np </p>\n"
   ]
  },
  {
   "cell_type": "code",
   "execution_count": 41,
   "id": "2278abb8",
   "metadata": {},
   "outputs": [
    {
     "name": "stdout",
     "output_type": "stream",
     "text": [
      "[1 2 3 4 5]\n"
     ]
    }
   ],
   "source": [
    "#Importing Library with alias\n",
    "import numpy as np\n",
    "\n",
    "array = np.array([1, 2, 3, 4, 5])\n",
    "\n",
    "print(array)"
   ]
  },
  {
   "cell_type": "markdown",
   "id": "24d8901a",
   "metadata": {},
   "source": [
    "<h2><center>Accessing Array Element</center></h2>"
   ]
  },
  {
   "cell_type": "code",
   "execution_count": 42,
   "id": "c20bf571",
   "metadata": {},
   "outputs": [
    {
     "name": "stdout",
     "output_type": "stream",
     "text": [
      "10\n"
     ]
    }
   ],
   "source": [
    "#Importing Library with alias\n",
    "import numpy as np\n",
    "\n",
    "array = np.array([10,20,30,40,50])\n",
    "\n",
    "print(array[0])"
   ]
  },
  {
   "cell_type": "code",
   "execution_count": 43,
   "id": "ec3f8e0d",
   "metadata": {},
   "outputs": [
    {
     "data": {
      "text/plain": [
       "40"
      ]
     },
     "execution_count": 43,
     "metadata": {},
     "output_type": "execute_result"
    }
   ],
   "source": [
    "array[3]"
   ]
  },
  {
   "cell_type": "code",
   "execution_count": 44,
   "id": "36108ef4",
   "metadata": {},
   "outputs": [
    {
     "data": {
      "text/plain": [
       "20"
      ]
     },
     "execution_count": 44,
     "metadata": {},
     "output_type": "execute_result"
    }
   ],
   "source": [
    "array[1]"
   ]
  },
  {
   "cell_type": "code",
   "execution_count": 45,
   "id": "3edd2150",
   "metadata": {},
   "outputs": [
    {
     "name": "stdout",
     "output_type": "stream",
     "text": [
      "[10 20 30]\n"
     ]
    }
   ],
   "source": [
    "# array slicing\n",
    "\n",
    "print(array[0:3])"
   ]
  },
  {
   "cell_type": "code",
   "execution_count": 46,
   "id": "83df7793",
   "metadata": {},
   "outputs": [
    {
     "name": "stdout",
     "output_type": "stream",
     "text": [
      "[20 30 40 50]\n"
     ]
    }
   ],
   "source": [
    "# If we will not provide upper bound, it will consider till last elelemt in the array\n",
    "print(array[1:])"
   ]
  },
  {
   "cell_type": "code",
   "execution_count": 47,
   "id": "04f3524d",
   "metadata": {},
   "outputs": [
    {
     "name": "stdout",
     "output_type": "stream",
     "text": [
      "[10 20 30]\n"
     ]
    }
   ],
   "source": [
    "# If we will not provide lower bound, it will start from first element of array\n",
    "print(array[:3])"
   ]
  },
  {
   "cell_type": "markdown",
   "id": "9d3930c6",
   "metadata": {},
   "source": [
    "<h2><center>Access 2-D Arrays</center></h2>"
   ]
  },
  {
   "cell_type": "code",
   "execution_count": 48,
   "id": "fd8ed4af",
   "metadata": {},
   "outputs": [
    {
     "name": "stdout",
     "output_type": "stream",
     "text": [
      "[[ 10  20  30  40  50]\n",
      " [ 60  70  80  90 100]]\n"
     ]
    }
   ],
   "source": [
    "import numpy as np\n",
    "\n",
    "array = np.array([[10,20,30,40,50], [60,70,80,90,100]])\n",
    "\n",
    "print(array)"
   ]
  },
  {
   "cell_type": "code",
   "execution_count": 49,
   "id": "e4628e4f",
   "metadata": {},
   "outputs": [
    {
     "name": "stdout",
     "output_type": "stream",
     "text": [
      "[10 20 30 40 50]\n"
     ]
    }
   ],
   "source": [
    "print(array[0])"
   ]
  },
  {
   "cell_type": "code",
   "execution_count": 50,
   "id": "c6bcf907",
   "metadata": {},
   "outputs": [
    {
     "name": "stdout",
     "output_type": "stream",
     "text": [
      "[ 60  70  80  90 100]\n"
     ]
    }
   ],
   "source": [
    "print(array[1])"
   ]
  },
  {
   "cell_type": "code",
   "execution_count": 51,
   "id": "2970f2e6",
   "metadata": {},
   "outputs": [
    {
     "name": "stdout",
     "output_type": "stream",
     "text": [
      "Printing 2nd element from First Array :  20\n"
     ]
    }
   ],
   "source": [
    "print(\"Printing 2nd element from First Array : \", array[0][1])"
   ]
  },
  {
   "cell_type": "code",
   "execution_count": 52,
   "id": "134f0dc3",
   "metadata": {},
   "outputs": [
    {
     "name": "stdout",
     "output_type": "stream",
     "text": [
      "Printing 4th element from Second Array :  90\n"
     ]
    }
   ],
   "source": [
    "print(\"Printing 4th element from Second Array : \", array[1][3])"
   ]
  },
  {
   "cell_type": "code",
   "execution_count": 53,
   "id": "2145573a",
   "metadata": {},
   "outputs": [
    {
     "ename": "IndexError",
     "evalue": "index 2 is out of bounds for axis 0 with size 2",
     "output_type": "error",
     "traceback": [
      "\u001b[1;31m---------------------------------------------------------------------------\u001b[0m",
      "\u001b[1;31mIndexError\u001b[0m                                Traceback (most recent call last)",
      "\u001b[1;32m<ipython-input-53-8351ed2c0ae4>\u001b[0m in \u001b[0;36m<module>\u001b[1;34m\u001b[0m\n\u001b[0;32m      1\u001b[0m \u001b[1;31m# If you will exceed the index value it will give you error\u001b[0m\u001b[1;33m\u001b[0m\u001b[1;33m\u001b[0m\u001b[1;33m\u001b[0m\u001b[0m\n\u001b[1;32m----> 2\u001b[1;33m \u001b[0mprint\u001b[0m\u001b[1;33m(\u001b[0m\u001b[0marray\u001b[0m\u001b[1;33m[\u001b[0m\u001b[1;36m2\u001b[0m\u001b[1;33m]\u001b[0m\u001b[1;33m)\u001b[0m\u001b[1;33m\u001b[0m\u001b[1;33m\u001b[0m\u001b[0m\n\u001b[0m",
      "\u001b[1;31mIndexError\u001b[0m: index 2 is out of bounds for axis 0 with size 2"
     ]
    }
   ],
   "source": [
    "# If you will exceed the index value it will give you error\n",
    "print(array[2])"
   ]
  }
 ],
 "metadata": {
  "kernelspec": {
   "display_name": "Python 3",
   "language": "python",
   "name": "python3"
  },
  "language_info": {
   "codemirror_mode": {
    "name": "ipython",
    "version": 3
   },
   "file_extension": ".py",
   "mimetype": "text/x-python",
   "name": "python",
   "nbconvert_exporter": "python",
   "pygments_lexer": "ipython3",
   "version": "3.8.8"
  }
 },
 "nbformat": 4,
 "nbformat_minor": 5
}
