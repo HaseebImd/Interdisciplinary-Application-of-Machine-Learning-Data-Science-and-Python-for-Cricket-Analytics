{
 "cells": [
  {
   "cell_type": "markdown",
   "id": "ba714b67",
   "metadata": {},
   "source": [
    "<center><h2>Exploratory Data Analysis on IPL Matches Dataset(2008-2020)</h2></center>"
   ]
  },
  {
   "cell_type": "markdown",
   "id": "9496031f",
   "metadata": {},
   "source": [
    "<center><img src=\"EDA.png\" alt=\"Seaborn\"></center>"
   ]
  },
  {
   "cell_type": "markdown",
   "id": "3b8668f2",
   "metadata": {},
   "source": [
    "<p><center style=\"color:#159364; font-family:cursive;\">Exploratory data analysis (EDA) is an approach to analyzing and summarizing data to gain insights into its underlying patterns and relationships. It involves a variety of techniques and tools for summarizing, visualizing, and understanding the data, with the goal of identifying interesting patterns or anomalies that can be further investigated. EDA is an iterative process that is used to guide further analysis and modeling.</center></p>\n"
   ]
  },
  {
   "cell_type": "markdown",
   "id": "347092b7",
   "metadata": {},
   "source": [
    "<h3>Introduction</h3>\n",
    "<p>The Indian Premier League is the largest T-20 cricket league held in India. In this dataset, I possess information on all matches from 2008 to 2020. By utilizing Python libraries such as Numpy and Pandas for data manipulation and Matplotlib, Seaborn, and Plotly for visualization, I will be analyzing the factors and patterns that contribute to a team's success in winning matches.</p>"
   ]
  },
  {
   "cell_type": "markdown",
   "id": "909cefb4",
   "metadata": {},
   "source": [
    "<h3>Importing Required Libraries</h3>"
   ]
  },
  {
   "cell_type": "code",
   "execution_count": 5,
   "id": "3ec1253f",
   "metadata": {},
   "outputs": [],
   "source": [
    "import numpy as np\n",
    "import pandas as pd\n",
    "import matplotlib.pyplot as plt\n",
    "import seaborn as sns\n",
    "import warnings\n",
    "warnings.filterwarnings('ignore')"
   ]
  },
  {
   "cell_type": "markdown",
   "id": "fcd9d2f0",
   "metadata": {},
   "source": [
    "<h3>Importing Required Data Set</h3>"
   ]
  },
  {
   "cell_type": "code",
   "execution_count": 6,
   "id": "d91b06d4",
   "metadata": {},
   "outputs": [],
   "source": [
    "import pandas as pd\n",
    "df = pd.read_csv(\"IPL Matches 2008-2020.csv\")"
   ]
  },
  {
   "cell_type": "code",
   "execution_count": 7,
   "id": "cd9af66b",
   "metadata": {},
   "outputs": [
    {
     "data": {
      "text/html": [
       "<div>\n",
       "<style scoped>\n",
       "    .dataframe tbody tr th:only-of-type {\n",
       "        vertical-align: middle;\n",
       "    }\n",
       "\n",
       "    .dataframe tbody tr th {\n",
       "        vertical-align: top;\n",
       "    }\n",
       "\n",
       "    .dataframe thead th {\n",
       "        text-align: right;\n",
       "    }\n",
       "</style>\n",
       "<table border=\"1\" class=\"dataframe\">\n",
       "  <thead>\n",
       "    <tr style=\"text-align: right;\">\n",
       "      <th></th>\n",
       "      <th>id</th>\n",
       "      <th>city</th>\n",
       "      <th>date</th>\n",
       "      <th>player_of_match</th>\n",
       "      <th>venue</th>\n",
       "      <th>neutral_venue</th>\n",
       "      <th>team1</th>\n",
       "      <th>team2</th>\n",
       "      <th>toss_winner</th>\n",
       "      <th>toss_decision</th>\n",
       "      <th>winner</th>\n",
       "      <th>result</th>\n",
       "      <th>result_margin</th>\n",
       "      <th>eliminator</th>\n",
       "      <th>method</th>\n",
       "      <th>umpire1</th>\n",
       "      <th>umpire2</th>\n",
       "    </tr>\n",
       "  </thead>\n",
       "  <tbody>\n",
       "    <tr>\n",
       "      <th>0</th>\n",
       "      <td>335982</td>\n",
       "      <td>Bangalore</td>\n",
       "      <td>2008-04-18</td>\n",
       "      <td>BB McCullum</td>\n",
       "      <td>M Chinnaswamy Stadium</td>\n",
       "      <td>0</td>\n",
       "      <td>Royal Challengers Bangalore</td>\n",
       "      <td>Kolkata Knight Riders</td>\n",
       "      <td>Royal Challengers Bangalore</td>\n",
       "      <td>field</td>\n",
       "      <td>Kolkata Knight Riders</td>\n",
       "      <td>runs</td>\n",
       "      <td>140.0</td>\n",
       "      <td>N</td>\n",
       "      <td>NaN</td>\n",
       "      <td>Asad Rauf</td>\n",
       "      <td>RE Koertzen</td>\n",
       "    </tr>\n",
       "    <tr>\n",
       "      <th>1</th>\n",
       "      <td>335983</td>\n",
       "      <td>Chandigarh</td>\n",
       "      <td>2008-04-19</td>\n",
       "      <td>MEK Hussey</td>\n",
       "      <td>Punjab Cricket Association Stadium, Mohali</td>\n",
       "      <td>0</td>\n",
       "      <td>Kings XI Punjab</td>\n",
       "      <td>Chennai Super Kings</td>\n",
       "      <td>Chennai Super Kings</td>\n",
       "      <td>bat</td>\n",
       "      <td>Chennai Super Kings</td>\n",
       "      <td>runs</td>\n",
       "      <td>33.0</td>\n",
       "      <td>N</td>\n",
       "      <td>NaN</td>\n",
       "      <td>MR Benson</td>\n",
       "      <td>SL Shastri</td>\n",
       "    </tr>\n",
       "    <tr>\n",
       "      <th>2</th>\n",
       "      <td>335984</td>\n",
       "      <td>Delhi</td>\n",
       "      <td>2008-04-19</td>\n",
       "      <td>MF Maharoof</td>\n",
       "      <td>Feroz Shah Kotla</td>\n",
       "      <td>0</td>\n",
       "      <td>Delhi Daredevils</td>\n",
       "      <td>Rajasthan Royals</td>\n",
       "      <td>Rajasthan Royals</td>\n",
       "      <td>bat</td>\n",
       "      <td>Delhi Daredevils</td>\n",
       "      <td>wickets</td>\n",
       "      <td>9.0</td>\n",
       "      <td>N</td>\n",
       "      <td>NaN</td>\n",
       "      <td>Aleem Dar</td>\n",
       "      <td>GA Pratapkumar</td>\n",
       "    </tr>\n",
       "    <tr>\n",
       "      <th>3</th>\n",
       "      <td>335985</td>\n",
       "      <td>Mumbai</td>\n",
       "      <td>2008-04-20</td>\n",
       "      <td>MV Boucher</td>\n",
       "      <td>Wankhede Stadium</td>\n",
       "      <td>0</td>\n",
       "      <td>Mumbai Indians</td>\n",
       "      <td>Royal Challengers Bangalore</td>\n",
       "      <td>Mumbai Indians</td>\n",
       "      <td>bat</td>\n",
       "      <td>Royal Challengers Bangalore</td>\n",
       "      <td>wickets</td>\n",
       "      <td>5.0</td>\n",
       "      <td>N</td>\n",
       "      <td>NaN</td>\n",
       "      <td>SJ Davis</td>\n",
       "      <td>DJ Harper</td>\n",
       "    </tr>\n",
       "    <tr>\n",
       "      <th>4</th>\n",
       "      <td>335986</td>\n",
       "      <td>Kolkata</td>\n",
       "      <td>2008-04-20</td>\n",
       "      <td>DJ Hussey</td>\n",
       "      <td>Eden Gardens</td>\n",
       "      <td>0</td>\n",
       "      <td>Kolkata Knight Riders</td>\n",
       "      <td>Deccan Chargers</td>\n",
       "      <td>Deccan Chargers</td>\n",
       "      <td>bat</td>\n",
       "      <td>Kolkata Knight Riders</td>\n",
       "      <td>wickets</td>\n",
       "      <td>5.0</td>\n",
       "      <td>N</td>\n",
       "      <td>NaN</td>\n",
       "      <td>BF Bowden</td>\n",
       "      <td>K Hariharan</td>\n",
       "    </tr>\n",
       "  </tbody>\n",
       "</table>\n",
       "</div>"
      ],
      "text/plain": [
       "       id        city        date player_of_match  \\\n",
       "0  335982   Bangalore  2008-04-18     BB McCullum   \n",
       "1  335983  Chandigarh  2008-04-19      MEK Hussey   \n",
       "2  335984       Delhi  2008-04-19     MF Maharoof   \n",
       "3  335985      Mumbai  2008-04-20      MV Boucher   \n",
       "4  335986     Kolkata  2008-04-20       DJ Hussey   \n",
       "\n",
       "                                        venue  neutral_venue  \\\n",
       "0                       M Chinnaswamy Stadium              0   \n",
       "1  Punjab Cricket Association Stadium, Mohali              0   \n",
       "2                            Feroz Shah Kotla              0   \n",
       "3                            Wankhede Stadium              0   \n",
       "4                                Eden Gardens              0   \n",
       "\n",
       "                         team1                        team2  \\\n",
       "0  Royal Challengers Bangalore        Kolkata Knight Riders   \n",
       "1              Kings XI Punjab          Chennai Super Kings   \n",
       "2             Delhi Daredevils             Rajasthan Royals   \n",
       "3               Mumbai Indians  Royal Challengers Bangalore   \n",
       "4        Kolkata Knight Riders              Deccan Chargers   \n",
       "\n",
       "                   toss_winner toss_decision                       winner  \\\n",
       "0  Royal Challengers Bangalore         field        Kolkata Knight Riders   \n",
       "1          Chennai Super Kings           bat          Chennai Super Kings   \n",
       "2             Rajasthan Royals           bat             Delhi Daredevils   \n",
       "3               Mumbai Indians           bat  Royal Challengers Bangalore   \n",
       "4              Deccan Chargers           bat        Kolkata Knight Riders   \n",
       "\n",
       "    result  result_margin eliminator method    umpire1         umpire2  \n",
       "0     runs          140.0          N    NaN  Asad Rauf     RE Koertzen  \n",
       "1     runs           33.0          N    NaN  MR Benson      SL Shastri  \n",
       "2  wickets            9.0          N    NaN  Aleem Dar  GA Pratapkumar  \n",
       "3  wickets            5.0          N    NaN   SJ Davis       DJ Harper  \n",
       "4  wickets            5.0          N    NaN  BF Bowden     K Hariharan  "
      ]
     },
     "execution_count": 7,
     "metadata": {},
     "output_type": "execute_result"
    }
   ],
   "source": [
    "df.head()"
   ]
  },
  {
   "cell_type": "markdown",
   "id": "8d3d4f34",
   "metadata": {},
   "source": [
    "<h3>Exploring Columns <code>info()</code> </h3>\n",
    "<p><code>info()</code> is a builtin Python provided method used to explore about Columns in Data Set.\n",
    "The <code>info()</code>  method provides a concise summary of the DataFrame, including the number of non-null values, data type of each column, and memory usage. This method is useful for quickly getting an overview of the data and identifying any missing values or data type mismatches.\n",
    "</p>"
   ]
  },
  {
   "cell_type": "code",
   "execution_count": 8,
   "id": "5ea4a935",
   "metadata": {},
   "outputs": [
    {
     "name": "stdout",
     "output_type": "stream",
     "text": [
      "<class 'pandas.core.frame.DataFrame'>\n",
      "RangeIndex: 816 entries, 0 to 815\n",
      "Data columns (total 17 columns):\n",
      " #   Column           Non-Null Count  Dtype  \n",
      "---  ------           --------------  -----  \n",
      " 0   id               816 non-null    int64  \n",
      " 1   city             803 non-null    object \n",
      " 2   date             816 non-null    object \n",
      " 3   player_of_match  812 non-null    object \n",
      " 4   venue            816 non-null    object \n",
      " 5   neutral_venue    816 non-null    int64  \n",
      " 6   team1            816 non-null    object \n",
      " 7   team2            816 non-null    object \n",
      " 8   toss_winner      816 non-null    object \n",
      " 9   toss_decision    816 non-null    object \n",
      " 10  winner           812 non-null    object \n",
      " 11  result           812 non-null    object \n",
      " 12  result_margin    799 non-null    float64\n",
      " 13  eliminator       812 non-null    object \n",
      " 14  method           19 non-null     object \n",
      " 15  umpire1          816 non-null    object \n",
      " 16  umpire2          816 non-null    object \n",
      "dtypes: float64(1), int64(2), object(14)\n",
      "memory usage: 108.5+ KB\n"
     ]
    }
   ],
   "source": [
    "df.info()"
   ]
  },
  {
   "cell_type": "markdown",
   "id": "27c9ed8f",
   "metadata": {},
   "source": [
    "<h3>Get Statistical Summary <code>describe()</code></h3>\n",
    "<p><code>describe()</code> is a builtin Python provided method used to explore statistically summary about Data Set.\n",
    "The <code>describe()</code> method provides descriptive statistics for each numerical column in the DataFrame, such as the count, mean, standard deviation, minimum, and maximum values. This method is useful for understanding the distribution and range of the data in each column and identifying any outliers or unusual values.\n",
    "</p>"
   ]
  },
  {
   "cell_type": "code",
   "execution_count": 9,
   "id": "ce231e3e",
   "metadata": {},
   "outputs": [
    {
     "data": {
      "text/html": [
       "<div>\n",
       "<style scoped>\n",
       "    .dataframe tbody tr th:only-of-type {\n",
       "        vertical-align: middle;\n",
       "    }\n",
       "\n",
       "    .dataframe tbody tr th {\n",
       "        vertical-align: top;\n",
       "    }\n",
       "\n",
       "    .dataframe thead th {\n",
       "        text-align: right;\n",
       "    }\n",
       "</style>\n",
       "<table border=\"1\" class=\"dataframe\">\n",
       "  <thead>\n",
       "    <tr style=\"text-align: right;\">\n",
       "      <th></th>\n",
       "      <th>id</th>\n",
       "      <th>neutral_venue</th>\n",
       "      <th>result_margin</th>\n",
       "    </tr>\n",
       "  </thead>\n",
       "  <tbody>\n",
       "    <tr>\n",
       "      <th>count</th>\n",
       "      <td>8.160000e+02</td>\n",
       "      <td>816.000000</td>\n",
       "      <td>799.000000</td>\n",
       "    </tr>\n",
       "    <tr>\n",
       "      <th>mean</th>\n",
       "      <td>7.563496e+05</td>\n",
       "      <td>0.094363</td>\n",
       "      <td>17.321652</td>\n",
       "    </tr>\n",
       "    <tr>\n",
       "      <th>std</th>\n",
       "      <td>3.058943e+05</td>\n",
       "      <td>0.292512</td>\n",
       "      <td>22.068427</td>\n",
       "    </tr>\n",
       "    <tr>\n",
       "      <th>min</th>\n",
       "      <td>3.359820e+05</td>\n",
       "      <td>0.000000</td>\n",
       "      <td>1.000000</td>\n",
       "    </tr>\n",
       "    <tr>\n",
       "      <th>25%</th>\n",
       "      <td>5.012278e+05</td>\n",
       "      <td>0.000000</td>\n",
       "      <td>6.000000</td>\n",
       "    </tr>\n",
       "    <tr>\n",
       "      <th>50%</th>\n",
       "      <td>7.292980e+05</td>\n",
       "      <td>0.000000</td>\n",
       "      <td>8.000000</td>\n",
       "    </tr>\n",
       "    <tr>\n",
       "      <th>75%</th>\n",
       "      <td>1.082626e+06</td>\n",
       "      <td>0.000000</td>\n",
       "      <td>19.500000</td>\n",
       "    </tr>\n",
       "    <tr>\n",
       "      <th>max</th>\n",
       "      <td>1.237181e+06</td>\n",
       "      <td>1.000000</td>\n",
       "      <td>146.000000</td>\n",
       "    </tr>\n",
       "  </tbody>\n",
       "</table>\n",
       "</div>"
      ],
      "text/plain": [
       "                 id  neutral_venue  result_margin\n",
       "count  8.160000e+02     816.000000     799.000000\n",
       "mean   7.563496e+05       0.094363      17.321652\n",
       "std    3.058943e+05       0.292512      22.068427\n",
       "min    3.359820e+05       0.000000       1.000000\n",
       "25%    5.012278e+05       0.000000       6.000000\n",
       "50%    7.292980e+05       0.000000       8.000000\n",
       "75%    1.082626e+06       0.000000      19.500000\n",
       "max    1.237181e+06       1.000000     146.000000"
      ]
     },
     "execution_count": 9,
     "metadata": {},
     "output_type": "execute_result"
    }
   ],
   "source": [
    "df.describe()"
   ]
  },
  {
   "cell_type": "markdown",
   "id": "3a150da9",
   "metadata": {},
   "source": [
    "<h3>Data Pre-Processing</h3>\n",
    "<p>Pre-processing is a data preparation step that involves cleaning, transforming, and organizing data before it can be used for analysis. This step is crucial for ensuring the accuracy and quality of the data and may involve tasks such as handling missing or inconsistent values, scaling or normalizing data, encoding categorical variables, and feature selection or extraction. Pre-processing can have a significant impact on the performance and accuracy of machine learning models and is a key part of the data analysis workflow.</p>"
   ]
  },
  {
   "cell_type": "markdown",
   "id": "c1ea8843",
   "metadata": {},
   "source": [
    "<h4>1. Finding Null Values</h4>"
   ]
  },
  {
   "cell_type": "code",
   "execution_count": 10,
   "id": "66c3084f",
   "metadata": {},
   "outputs": [
    {
     "data": {
      "text/plain": [
       "id                   0\n",
       "city                13\n",
       "date                 0\n",
       "player_of_match      4\n",
       "venue                0\n",
       "neutral_venue        0\n",
       "team1                0\n",
       "team2                0\n",
       "toss_winner          0\n",
       "toss_decision        0\n",
       "winner               4\n",
       "result               4\n",
       "result_margin       17\n",
       "eliminator           4\n",
       "method             797\n",
       "umpire1              0\n",
       "umpire2              0\n",
       "dtype: int64"
      ]
     },
     "execution_count": 10,
     "metadata": {},
     "output_type": "execute_result"
    }
   ],
   "source": [
    "df.isnull().sum()"
   ]
  },
  {
   "cell_type": "markdown",
   "id": "20fd0976",
   "metadata": {},
   "source": [
    "<b>Show these values in % </b>"
   ]
  },
  {
   "cell_type": "code",
   "execution_count": 11,
   "id": "60d70a0b",
   "metadata": {},
   "outputs": [
    {
     "data": {
      "text/plain": [
       "id                  0.000000\n",
       "city                1.593137\n",
       "date                0.000000\n",
       "player_of_match     0.490196\n",
       "venue               0.000000\n",
       "neutral_venue       0.000000\n",
       "team1               0.000000\n",
       "team2               0.000000\n",
       "toss_winner         0.000000\n",
       "toss_decision       0.000000\n",
       "winner              0.490196\n",
       "result              0.490196\n",
       "result_margin       2.083333\n",
       "eliminator          0.490196\n",
       "method             97.671569\n",
       "umpire1             0.000000\n",
       "umpire2             0.000000\n",
       "dtype: float64"
      ]
     },
     "execution_count": 11,
     "metadata": {},
     "output_type": "execute_result"
    }
   ],
   "source": [
    "df.isnull().sum()/len(df) * 100"
   ]
  },
  {
   "cell_type": "code",
   "execution_count": 12,
   "id": "37784ba6",
   "metadata": {},
   "outputs": [
    {
     "data": {
      "text/html": [
       "<div>\n",
       "<style scoped>\n",
       "    .dataframe tbody tr th:only-of-type {\n",
       "        vertical-align: middle;\n",
       "    }\n",
       "\n",
       "    .dataframe tbody tr th {\n",
       "        vertical-align: top;\n",
       "    }\n",
       "\n",
       "    .dataframe thead th {\n",
       "        text-align: right;\n",
       "    }\n",
       "</style>\n",
       "<table border=\"1\" class=\"dataframe\">\n",
       "  <thead>\n",
       "    <tr style=\"text-align: right;\">\n",
       "      <th></th>\n",
       "      <th>id</th>\n",
       "      <th>city</th>\n",
       "      <th>date</th>\n",
       "      <th>player_of_match</th>\n",
       "      <th>venue</th>\n",
       "      <th>neutral_venue</th>\n",
       "      <th>team1</th>\n",
       "      <th>team2</th>\n",
       "      <th>toss_winner</th>\n",
       "      <th>toss_decision</th>\n",
       "      <th>winner</th>\n",
       "      <th>result</th>\n",
       "      <th>result_margin</th>\n",
       "      <th>eliminator</th>\n",
       "      <th>method</th>\n",
       "      <th>umpire1</th>\n",
       "      <th>umpire2</th>\n",
       "    </tr>\n",
       "  </thead>\n",
       "  <tbody>\n",
       "    <tr>\n",
       "      <th>0</th>\n",
       "      <td>335982</td>\n",
       "      <td>Bangalore</td>\n",
       "      <td>2008-04-18</td>\n",
       "      <td>BB McCullum</td>\n",
       "      <td>M Chinnaswamy Stadium</td>\n",
       "      <td>0</td>\n",
       "      <td>Royal Challengers Bangalore</td>\n",
       "      <td>Kolkata Knight Riders</td>\n",
       "      <td>Royal Challengers Bangalore</td>\n",
       "      <td>field</td>\n",
       "      <td>Kolkata Knight Riders</td>\n",
       "      <td>runs</td>\n",
       "      <td>140.0</td>\n",
       "      <td>N</td>\n",
       "      <td>NaN</td>\n",
       "      <td>Asad Rauf</td>\n",
       "      <td>RE Koertzen</td>\n",
       "    </tr>\n",
       "    <tr>\n",
       "      <th>1</th>\n",
       "      <td>335983</td>\n",
       "      <td>Chandigarh</td>\n",
       "      <td>2008-04-19</td>\n",
       "      <td>MEK Hussey</td>\n",
       "      <td>Punjab Cricket Association Stadium, Mohali</td>\n",
       "      <td>0</td>\n",
       "      <td>Kings XI Punjab</td>\n",
       "      <td>Chennai Super Kings</td>\n",
       "      <td>Chennai Super Kings</td>\n",
       "      <td>bat</td>\n",
       "      <td>Chennai Super Kings</td>\n",
       "      <td>runs</td>\n",
       "      <td>33.0</td>\n",
       "      <td>N</td>\n",
       "      <td>NaN</td>\n",
       "      <td>MR Benson</td>\n",
       "      <td>SL Shastri</td>\n",
       "    </tr>\n",
       "    <tr>\n",
       "      <th>2</th>\n",
       "      <td>335984</td>\n",
       "      <td>Delhi</td>\n",
       "      <td>2008-04-19</td>\n",
       "      <td>MF Maharoof</td>\n",
       "      <td>Feroz Shah Kotla</td>\n",
       "      <td>0</td>\n",
       "      <td>Delhi Daredevils</td>\n",
       "      <td>Rajasthan Royals</td>\n",
       "      <td>Rajasthan Royals</td>\n",
       "      <td>bat</td>\n",
       "      <td>Delhi Daredevils</td>\n",
       "      <td>wickets</td>\n",
       "      <td>9.0</td>\n",
       "      <td>N</td>\n",
       "      <td>NaN</td>\n",
       "      <td>Aleem Dar</td>\n",
       "      <td>GA Pratapkumar</td>\n",
       "    </tr>\n",
       "    <tr>\n",
       "      <th>3</th>\n",
       "      <td>335985</td>\n",
       "      <td>Mumbai</td>\n",
       "      <td>2008-04-20</td>\n",
       "      <td>MV Boucher</td>\n",
       "      <td>Wankhede Stadium</td>\n",
       "      <td>0</td>\n",
       "      <td>Mumbai Indians</td>\n",
       "      <td>Royal Challengers Bangalore</td>\n",
       "      <td>Mumbai Indians</td>\n",
       "      <td>bat</td>\n",
       "      <td>Royal Challengers Bangalore</td>\n",
       "      <td>wickets</td>\n",
       "      <td>5.0</td>\n",
       "      <td>N</td>\n",
       "      <td>NaN</td>\n",
       "      <td>SJ Davis</td>\n",
       "      <td>DJ Harper</td>\n",
       "    </tr>\n",
       "    <tr>\n",
       "      <th>4</th>\n",
       "      <td>335986</td>\n",
       "      <td>Kolkata</td>\n",
       "      <td>2008-04-20</td>\n",
       "      <td>DJ Hussey</td>\n",
       "      <td>Eden Gardens</td>\n",
       "      <td>0</td>\n",
       "      <td>Kolkata Knight Riders</td>\n",
       "      <td>Deccan Chargers</td>\n",
       "      <td>Deccan Chargers</td>\n",
       "      <td>bat</td>\n",
       "      <td>Kolkata Knight Riders</td>\n",
       "      <td>wickets</td>\n",
       "      <td>5.0</td>\n",
       "      <td>N</td>\n",
       "      <td>NaN</td>\n",
       "      <td>BF Bowden</td>\n",
       "      <td>K Hariharan</td>\n",
       "    </tr>\n",
       "    <tr>\n",
       "      <th>5</th>\n",
       "      <td>335987</td>\n",
       "      <td>Jaipur</td>\n",
       "      <td>2008-04-21</td>\n",
       "      <td>SR Watson</td>\n",
       "      <td>Sawai Mansingh Stadium</td>\n",
       "      <td>0</td>\n",
       "      <td>Rajasthan Royals</td>\n",
       "      <td>Kings XI Punjab</td>\n",
       "      <td>Kings XI Punjab</td>\n",
       "      <td>bat</td>\n",
       "      <td>Rajasthan Royals</td>\n",
       "      <td>wickets</td>\n",
       "      <td>6.0</td>\n",
       "      <td>N</td>\n",
       "      <td>NaN</td>\n",
       "      <td>Aleem Dar</td>\n",
       "      <td>RB Tiffin</td>\n",
       "    </tr>\n",
       "    <tr>\n",
       "      <th>6</th>\n",
       "      <td>335988</td>\n",
       "      <td>Hyderabad</td>\n",
       "      <td>2008-04-22</td>\n",
       "      <td>V Sehwag</td>\n",
       "      <td>Rajiv Gandhi International Stadium, Uppal</td>\n",
       "      <td>0</td>\n",
       "      <td>Deccan Chargers</td>\n",
       "      <td>Delhi Daredevils</td>\n",
       "      <td>Deccan Chargers</td>\n",
       "      <td>bat</td>\n",
       "      <td>Delhi Daredevils</td>\n",
       "      <td>wickets</td>\n",
       "      <td>9.0</td>\n",
       "      <td>N</td>\n",
       "      <td>NaN</td>\n",
       "      <td>IL Howell</td>\n",
       "      <td>AM Saheba</td>\n",
       "    </tr>\n",
       "    <tr>\n",
       "      <th>7</th>\n",
       "      <td>335989</td>\n",
       "      <td>Chennai</td>\n",
       "      <td>2008-04-23</td>\n",
       "      <td>ML Hayden</td>\n",
       "      <td>MA Chidambaram Stadium, Chepauk</td>\n",
       "      <td>0</td>\n",
       "      <td>Chennai Super Kings</td>\n",
       "      <td>Mumbai Indians</td>\n",
       "      <td>Mumbai Indians</td>\n",
       "      <td>field</td>\n",
       "      <td>Chennai Super Kings</td>\n",
       "      <td>runs</td>\n",
       "      <td>6.0</td>\n",
       "      <td>N</td>\n",
       "      <td>NaN</td>\n",
       "      <td>DJ Harper</td>\n",
       "      <td>GA Pratapkumar</td>\n",
       "    </tr>\n",
       "    <tr>\n",
       "      <th>8</th>\n",
       "      <td>335990</td>\n",
       "      <td>Hyderabad</td>\n",
       "      <td>2008-04-24</td>\n",
       "      <td>YK Pathan</td>\n",
       "      <td>Rajiv Gandhi International Stadium, Uppal</td>\n",
       "      <td>0</td>\n",
       "      <td>Deccan Chargers</td>\n",
       "      <td>Rajasthan Royals</td>\n",
       "      <td>Rajasthan Royals</td>\n",
       "      <td>field</td>\n",
       "      <td>Rajasthan Royals</td>\n",
       "      <td>wickets</td>\n",
       "      <td>3.0</td>\n",
       "      <td>N</td>\n",
       "      <td>NaN</td>\n",
       "      <td>Asad Rauf</td>\n",
       "      <td>MR Benson</td>\n",
       "    </tr>\n",
       "    <tr>\n",
       "      <th>9</th>\n",
       "      <td>335991</td>\n",
       "      <td>Chandigarh</td>\n",
       "      <td>2008-04-25</td>\n",
       "      <td>KC Sangakkara</td>\n",
       "      <td>Punjab Cricket Association Stadium, Mohali</td>\n",
       "      <td>0</td>\n",
       "      <td>Kings XI Punjab</td>\n",
       "      <td>Mumbai Indians</td>\n",
       "      <td>Mumbai Indians</td>\n",
       "      <td>field</td>\n",
       "      <td>Kings XI Punjab</td>\n",
       "      <td>runs</td>\n",
       "      <td>66.0</td>\n",
       "      <td>N</td>\n",
       "      <td>NaN</td>\n",
       "      <td>Aleem Dar</td>\n",
       "      <td>AM Saheba</td>\n",
       "    </tr>\n",
       "  </tbody>\n",
       "</table>\n",
       "</div>"
      ],
      "text/plain": [
       "       id        city        date player_of_match  \\\n",
       "0  335982   Bangalore  2008-04-18     BB McCullum   \n",
       "1  335983  Chandigarh  2008-04-19      MEK Hussey   \n",
       "2  335984       Delhi  2008-04-19     MF Maharoof   \n",
       "3  335985      Mumbai  2008-04-20      MV Boucher   \n",
       "4  335986     Kolkata  2008-04-20       DJ Hussey   \n",
       "5  335987      Jaipur  2008-04-21       SR Watson   \n",
       "6  335988   Hyderabad  2008-04-22        V Sehwag   \n",
       "7  335989     Chennai  2008-04-23       ML Hayden   \n",
       "8  335990   Hyderabad  2008-04-24       YK Pathan   \n",
       "9  335991  Chandigarh  2008-04-25   KC Sangakkara   \n",
       "\n",
       "                                        venue  neutral_venue  \\\n",
       "0                       M Chinnaswamy Stadium              0   \n",
       "1  Punjab Cricket Association Stadium, Mohali              0   \n",
       "2                            Feroz Shah Kotla              0   \n",
       "3                            Wankhede Stadium              0   \n",
       "4                                Eden Gardens              0   \n",
       "5                      Sawai Mansingh Stadium              0   \n",
       "6   Rajiv Gandhi International Stadium, Uppal              0   \n",
       "7             MA Chidambaram Stadium, Chepauk              0   \n",
       "8   Rajiv Gandhi International Stadium, Uppal              0   \n",
       "9  Punjab Cricket Association Stadium, Mohali              0   \n",
       "\n",
       "                         team1                        team2  \\\n",
       "0  Royal Challengers Bangalore        Kolkata Knight Riders   \n",
       "1              Kings XI Punjab          Chennai Super Kings   \n",
       "2             Delhi Daredevils             Rajasthan Royals   \n",
       "3               Mumbai Indians  Royal Challengers Bangalore   \n",
       "4        Kolkata Knight Riders              Deccan Chargers   \n",
       "5             Rajasthan Royals              Kings XI Punjab   \n",
       "6              Deccan Chargers             Delhi Daredevils   \n",
       "7          Chennai Super Kings               Mumbai Indians   \n",
       "8              Deccan Chargers             Rajasthan Royals   \n",
       "9              Kings XI Punjab               Mumbai Indians   \n",
       "\n",
       "                   toss_winner toss_decision                       winner  \\\n",
       "0  Royal Challengers Bangalore         field        Kolkata Knight Riders   \n",
       "1          Chennai Super Kings           bat          Chennai Super Kings   \n",
       "2             Rajasthan Royals           bat             Delhi Daredevils   \n",
       "3               Mumbai Indians           bat  Royal Challengers Bangalore   \n",
       "4              Deccan Chargers           bat        Kolkata Knight Riders   \n",
       "5              Kings XI Punjab           bat             Rajasthan Royals   \n",
       "6              Deccan Chargers           bat             Delhi Daredevils   \n",
       "7               Mumbai Indians         field          Chennai Super Kings   \n",
       "8             Rajasthan Royals         field             Rajasthan Royals   \n",
       "9               Mumbai Indians         field              Kings XI Punjab   \n",
       "\n",
       "    result  result_margin eliminator method    umpire1         umpire2  \n",
       "0     runs          140.0          N    NaN  Asad Rauf     RE Koertzen  \n",
       "1     runs           33.0          N    NaN  MR Benson      SL Shastri  \n",
       "2  wickets            9.0          N    NaN  Aleem Dar  GA Pratapkumar  \n",
       "3  wickets            5.0          N    NaN   SJ Davis       DJ Harper  \n",
       "4  wickets            5.0          N    NaN  BF Bowden     K Hariharan  \n",
       "5  wickets            6.0          N    NaN  Aleem Dar       RB Tiffin  \n",
       "6  wickets            9.0          N    NaN  IL Howell       AM Saheba  \n",
       "7     runs            6.0          N    NaN  DJ Harper  GA Pratapkumar  \n",
       "8  wickets            3.0          N    NaN  Asad Rauf       MR Benson  \n",
       "9     runs           66.0          N    NaN  Aleem Dar       AM Saheba  "
      ]
     },
     "execution_count": 12,
     "metadata": {},
     "output_type": "execute_result"
    }
   ],
   "source": [
    "df.head(10)"
   ]
  },
  {
   "cell_type": "code",
   "execution_count": 13,
   "id": "76da9884",
   "metadata": {},
   "outputs": [
    {
     "data": {
      "text/html": [
       "<div>\n",
       "<style scoped>\n",
       "    .dataframe tbody tr th:only-of-type {\n",
       "        vertical-align: middle;\n",
       "    }\n",
       "\n",
       "    .dataframe tbody tr th {\n",
       "        vertical-align: top;\n",
       "    }\n",
       "\n",
       "    .dataframe thead th {\n",
       "        text-align: right;\n",
       "    }\n",
       "</style>\n",
       "<table border=\"1\" class=\"dataframe\">\n",
       "  <thead>\n",
       "    <tr style=\"text-align: right;\">\n",
       "      <th></th>\n",
       "      <th>id</th>\n",
       "      <th>city</th>\n",
       "      <th>date</th>\n",
       "      <th>player_of_match</th>\n",
       "      <th>venue</th>\n",
       "      <th>neutral_venue</th>\n",
       "      <th>team1</th>\n",
       "      <th>team2</th>\n",
       "      <th>toss_winner</th>\n",
       "      <th>toss_decision</th>\n",
       "      <th>winner</th>\n",
       "      <th>result</th>\n",
       "      <th>result_margin</th>\n",
       "      <th>eliminator</th>\n",
       "      <th>method</th>\n",
       "      <th>umpire1</th>\n",
       "      <th>umpire2</th>\n",
       "    </tr>\n",
       "  </thead>\n",
       "  <tbody>\n",
       "    <tr>\n",
       "      <th>811</th>\n",
       "      <td>1216547</td>\n",
       "      <td>Dubai</td>\n",
       "      <td>2020-09-28</td>\n",
       "      <td>AB de Villiers</td>\n",
       "      <td>Dubai International Cricket Stadium</td>\n",
       "      <td>0</td>\n",
       "      <td>Royal Challengers Bangalore</td>\n",
       "      <td>Mumbai Indians</td>\n",
       "      <td>Mumbai Indians</td>\n",
       "      <td>field</td>\n",
       "      <td>Royal Challengers Bangalore</td>\n",
       "      <td>tie</td>\n",
       "      <td>NaN</td>\n",
       "      <td>Y</td>\n",
       "      <td>NaN</td>\n",
       "      <td>Nitin Menon</td>\n",
       "      <td>PR Reiffel</td>\n",
       "    </tr>\n",
       "    <tr>\n",
       "      <th>812</th>\n",
       "      <td>1237177</td>\n",
       "      <td>Dubai</td>\n",
       "      <td>2020-11-05</td>\n",
       "      <td>JJ Bumrah</td>\n",
       "      <td>Dubai International Cricket Stadium</td>\n",
       "      <td>0</td>\n",
       "      <td>Mumbai Indians</td>\n",
       "      <td>Delhi Capitals</td>\n",
       "      <td>Delhi Capitals</td>\n",
       "      <td>field</td>\n",
       "      <td>Mumbai Indians</td>\n",
       "      <td>runs</td>\n",
       "      <td>57.0</td>\n",
       "      <td>N</td>\n",
       "      <td>NaN</td>\n",
       "      <td>CB Gaffaney</td>\n",
       "      <td>Nitin Menon</td>\n",
       "    </tr>\n",
       "    <tr>\n",
       "      <th>813</th>\n",
       "      <td>1237178</td>\n",
       "      <td>Abu Dhabi</td>\n",
       "      <td>2020-11-06</td>\n",
       "      <td>KS Williamson</td>\n",
       "      <td>Sheikh Zayed Stadium</td>\n",
       "      <td>0</td>\n",
       "      <td>Royal Challengers Bangalore</td>\n",
       "      <td>Sunrisers Hyderabad</td>\n",
       "      <td>Sunrisers Hyderabad</td>\n",
       "      <td>field</td>\n",
       "      <td>Sunrisers Hyderabad</td>\n",
       "      <td>wickets</td>\n",
       "      <td>6.0</td>\n",
       "      <td>N</td>\n",
       "      <td>NaN</td>\n",
       "      <td>PR Reiffel</td>\n",
       "      <td>S Ravi</td>\n",
       "    </tr>\n",
       "    <tr>\n",
       "      <th>814</th>\n",
       "      <td>1237180</td>\n",
       "      <td>Abu Dhabi</td>\n",
       "      <td>2020-11-08</td>\n",
       "      <td>MP Stoinis</td>\n",
       "      <td>Sheikh Zayed Stadium</td>\n",
       "      <td>0</td>\n",
       "      <td>Delhi Capitals</td>\n",
       "      <td>Sunrisers Hyderabad</td>\n",
       "      <td>Delhi Capitals</td>\n",
       "      <td>bat</td>\n",
       "      <td>Delhi Capitals</td>\n",
       "      <td>runs</td>\n",
       "      <td>17.0</td>\n",
       "      <td>N</td>\n",
       "      <td>NaN</td>\n",
       "      <td>PR Reiffel</td>\n",
       "      <td>S Ravi</td>\n",
       "    </tr>\n",
       "    <tr>\n",
       "      <th>815</th>\n",
       "      <td>1237181</td>\n",
       "      <td>Dubai</td>\n",
       "      <td>2020-11-10</td>\n",
       "      <td>TA Boult</td>\n",
       "      <td>Dubai International Cricket Stadium</td>\n",
       "      <td>0</td>\n",
       "      <td>Delhi Capitals</td>\n",
       "      <td>Mumbai Indians</td>\n",
       "      <td>Delhi Capitals</td>\n",
       "      <td>bat</td>\n",
       "      <td>Mumbai Indians</td>\n",
       "      <td>wickets</td>\n",
       "      <td>5.0</td>\n",
       "      <td>N</td>\n",
       "      <td>NaN</td>\n",
       "      <td>CB Gaffaney</td>\n",
       "      <td>Nitin Menon</td>\n",
       "    </tr>\n",
       "  </tbody>\n",
       "</table>\n",
       "</div>"
      ],
      "text/plain": [
       "          id       city        date player_of_match  \\\n",
       "811  1216547      Dubai  2020-09-28  AB de Villiers   \n",
       "812  1237177      Dubai  2020-11-05       JJ Bumrah   \n",
       "813  1237178  Abu Dhabi  2020-11-06   KS Williamson   \n",
       "814  1237180  Abu Dhabi  2020-11-08      MP Stoinis   \n",
       "815  1237181      Dubai  2020-11-10        TA Boult   \n",
       "\n",
       "                                   venue  neutral_venue  \\\n",
       "811  Dubai International Cricket Stadium              0   \n",
       "812  Dubai International Cricket Stadium              0   \n",
       "813                 Sheikh Zayed Stadium              0   \n",
       "814                 Sheikh Zayed Stadium              0   \n",
       "815  Dubai International Cricket Stadium              0   \n",
       "\n",
       "                           team1                team2          toss_winner  \\\n",
       "811  Royal Challengers Bangalore       Mumbai Indians       Mumbai Indians   \n",
       "812               Mumbai Indians       Delhi Capitals       Delhi Capitals   \n",
       "813  Royal Challengers Bangalore  Sunrisers Hyderabad  Sunrisers Hyderabad   \n",
       "814               Delhi Capitals  Sunrisers Hyderabad       Delhi Capitals   \n",
       "815               Delhi Capitals       Mumbai Indians       Delhi Capitals   \n",
       "\n",
       "    toss_decision                       winner   result  result_margin  \\\n",
       "811         field  Royal Challengers Bangalore      tie            NaN   \n",
       "812         field               Mumbai Indians     runs           57.0   \n",
       "813         field          Sunrisers Hyderabad  wickets            6.0   \n",
       "814           bat               Delhi Capitals     runs           17.0   \n",
       "815           bat               Mumbai Indians  wickets            5.0   \n",
       "\n",
       "    eliminator method      umpire1      umpire2  \n",
       "811          Y    NaN  Nitin Menon   PR Reiffel  \n",
       "812          N    NaN  CB Gaffaney  Nitin Menon  \n",
       "813          N    NaN   PR Reiffel       S Ravi  \n",
       "814          N    NaN   PR Reiffel       S Ravi  \n",
       "815          N    NaN  CB Gaffaney  Nitin Menon  "
      ]
     },
     "execution_count": 13,
     "metadata": {},
     "output_type": "execute_result"
    }
   ],
   "source": [
    "df.tail()"
   ]
  },
  {
   "cell_type": "markdown",
   "id": "3d1449c8",
   "metadata": {},
   "source": [
    "<b>Converting the date into datetime format</b>"
   ]
  },
  {
   "cell_type": "code",
   "execution_count": 14,
   "id": "579c5f22",
   "metadata": {},
   "outputs": [],
   "source": [
    "df[\"date\"] = pd.to_datetime(df[\"date\"])"
   ]
  },
  {
   "cell_type": "code",
   "execution_count": 15,
   "id": "0fa3ec32",
   "metadata": {},
   "outputs": [
    {
     "data": {
      "text/html": [
       "<div>\n",
       "<style scoped>\n",
       "    .dataframe tbody tr th:only-of-type {\n",
       "        vertical-align: middle;\n",
       "    }\n",
       "\n",
       "    .dataframe tbody tr th {\n",
       "        vertical-align: top;\n",
       "    }\n",
       "\n",
       "    .dataframe thead th {\n",
       "        text-align: right;\n",
       "    }\n",
       "</style>\n",
       "<table border=\"1\" class=\"dataframe\">\n",
       "  <thead>\n",
       "    <tr style=\"text-align: right;\">\n",
       "      <th></th>\n",
       "      <th>id</th>\n",
       "      <th>city</th>\n",
       "      <th>date</th>\n",
       "      <th>player_of_match</th>\n",
       "      <th>venue</th>\n",
       "      <th>neutral_venue</th>\n",
       "      <th>team1</th>\n",
       "      <th>team2</th>\n",
       "      <th>toss_winner</th>\n",
       "      <th>toss_decision</th>\n",
       "      <th>winner</th>\n",
       "      <th>result</th>\n",
       "      <th>result_margin</th>\n",
       "      <th>eliminator</th>\n",
       "      <th>method</th>\n",
       "      <th>umpire1</th>\n",
       "      <th>umpire2</th>\n",
       "    </tr>\n",
       "  </thead>\n",
       "  <tbody>\n",
       "    <tr>\n",
       "      <th>0</th>\n",
       "      <td>335982</td>\n",
       "      <td>Bangalore</td>\n",
       "      <td>2008-04-18</td>\n",
       "      <td>BB McCullum</td>\n",
       "      <td>M Chinnaswamy Stadium</td>\n",
       "      <td>0</td>\n",
       "      <td>Royal Challengers Bangalore</td>\n",
       "      <td>Kolkata Knight Riders</td>\n",
       "      <td>Royal Challengers Bangalore</td>\n",
       "      <td>field</td>\n",
       "      <td>Kolkata Knight Riders</td>\n",
       "      <td>runs</td>\n",
       "      <td>140.0</td>\n",
       "      <td>N</td>\n",
       "      <td>NaN</td>\n",
       "      <td>Asad Rauf</td>\n",
       "      <td>RE Koertzen</td>\n",
       "    </tr>\n",
       "    <tr>\n",
       "      <th>1</th>\n",
       "      <td>335983</td>\n",
       "      <td>Chandigarh</td>\n",
       "      <td>2008-04-19</td>\n",
       "      <td>MEK Hussey</td>\n",
       "      <td>Punjab Cricket Association Stadium, Mohali</td>\n",
       "      <td>0</td>\n",
       "      <td>Kings XI Punjab</td>\n",
       "      <td>Chennai Super Kings</td>\n",
       "      <td>Chennai Super Kings</td>\n",
       "      <td>bat</td>\n",
       "      <td>Chennai Super Kings</td>\n",
       "      <td>runs</td>\n",
       "      <td>33.0</td>\n",
       "      <td>N</td>\n",
       "      <td>NaN</td>\n",
       "      <td>MR Benson</td>\n",
       "      <td>SL Shastri</td>\n",
       "    </tr>\n",
       "    <tr>\n",
       "      <th>2</th>\n",
       "      <td>335984</td>\n",
       "      <td>Delhi</td>\n",
       "      <td>2008-04-19</td>\n",
       "      <td>MF Maharoof</td>\n",
       "      <td>Feroz Shah Kotla</td>\n",
       "      <td>0</td>\n",
       "      <td>Delhi Daredevils</td>\n",
       "      <td>Rajasthan Royals</td>\n",
       "      <td>Rajasthan Royals</td>\n",
       "      <td>bat</td>\n",
       "      <td>Delhi Daredevils</td>\n",
       "      <td>wickets</td>\n",
       "      <td>9.0</td>\n",
       "      <td>N</td>\n",
       "      <td>NaN</td>\n",
       "      <td>Aleem Dar</td>\n",
       "      <td>GA Pratapkumar</td>\n",
       "    </tr>\n",
       "    <tr>\n",
       "      <th>3</th>\n",
       "      <td>335985</td>\n",
       "      <td>Mumbai</td>\n",
       "      <td>2008-04-20</td>\n",
       "      <td>MV Boucher</td>\n",
       "      <td>Wankhede Stadium</td>\n",
       "      <td>0</td>\n",
       "      <td>Mumbai Indians</td>\n",
       "      <td>Royal Challengers Bangalore</td>\n",
       "      <td>Mumbai Indians</td>\n",
       "      <td>bat</td>\n",
       "      <td>Royal Challengers Bangalore</td>\n",
       "      <td>wickets</td>\n",
       "      <td>5.0</td>\n",
       "      <td>N</td>\n",
       "      <td>NaN</td>\n",
       "      <td>SJ Davis</td>\n",
       "      <td>DJ Harper</td>\n",
       "    </tr>\n",
       "    <tr>\n",
       "      <th>4</th>\n",
       "      <td>335986</td>\n",
       "      <td>Kolkata</td>\n",
       "      <td>2008-04-20</td>\n",
       "      <td>DJ Hussey</td>\n",
       "      <td>Eden Gardens</td>\n",
       "      <td>0</td>\n",
       "      <td>Kolkata Knight Riders</td>\n",
       "      <td>Deccan Chargers</td>\n",
       "      <td>Deccan Chargers</td>\n",
       "      <td>bat</td>\n",
       "      <td>Kolkata Knight Riders</td>\n",
       "      <td>wickets</td>\n",
       "      <td>5.0</td>\n",
       "      <td>N</td>\n",
       "      <td>NaN</td>\n",
       "      <td>BF Bowden</td>\n",
       "      <td>K Hariharan</td>\n",
       "    </tr>\n",
       "  </tbody>\n",
       "</table>\n",
       "</div>"
      ],
      "text/plain": [
       "       id        city       date player_of_match  \\\n",
       "0  335982   Bangalore 2008-04-18     BB McCullum   \n",
       "1  335983  Chandigarh 2008-04-19      MEK Hussey   \n",
       "2  335984       Delhi 2008-04-19     MF Maharoof   \n",
       "3  335985      Mumbai 2008-04-20      MV Boucher   \n",
       "4  335986     Kolkata 2008-04-20       DJ Hussey   \n",
       "\n",
       "                                        venue  neutral_venue  \\\n",
       "0                       M Chinnaswamy Stadium              0   \n",
       "1  Punjab Cricket Association Stadium, Mohali              0   \n",
       "2                            Feroz Shah Kotla              0   \n",
       "3                            Wankhede Stadium              0   \n",
       "4                                Eden Gardens              0   \n",
       "\n",
       "                         team1                        team2  \\\n",
       "0  Royal Challengers Bangalore        Kolkata Knight Riders   \n",
       "1              Kings XI Punjab          Chennai Super Kings   \n",
       "2             Delhi Daredevils             Rajasthan Royals   \n",
       "3               Mumbai Indians  Royal Challengers Bangalore   \n",
       "4        Kolkata Knight Riders              Deccan Chargers   \n",
       "\n",
       "                   toss_winner toss_decision                       winner  \\\n",
       "0  Royal Challengers Bangalore         field        Kolkata Knight Riders   \n",
       "1          Chennai Super Kings           bat          Chennai Super Kings   \n",
       "2             Rajasthan Royals           bat             Delhi Daredevils   \n",
       "3               Mumbai Indians           bat  Royal Challengers Bangalore   \n",
       "4              Deccan Chargers           bat        Kolkata Knight Riders   \n",
       "\n",
       "    result  result_margin eliminator method    umpire1         umpire2  \n",
       "0     runs          140.0          N    NaN  Asad Rauf     RE Koertzen  \n",
       "1     runs           33.0          N    NaN  MR Benson      SL Shastri  \n",
       "2  wickets            9.0          N    NaN  Aleem Dar  GA Pratapkumar  \n",
       "3  wickets            5.0          N    NaN   SJ Davis       DJ Harper  \n",
       "4  wickets            5.0          N    NaN  BF Bowden     K Hariharan  "
      ]
     },
     "execution_count": 15,
     "metadata": {},
     "output_type": "execute_result"
    }
   ],
   "source": [
    "df.head()"
   ]
  },
  {
   "cell_type": "markdown",
   "id": "5eac8864",
   "metadata": {},
   "source": [
    "<b>Separating Date into Year, Month and Day</b>"
   ]
  },
  {
   "cell_type": "markdown",
   "id": "f90ff0d3",
   "metadata": {},
   "source": [
    "<h5>1. Creating new column year the dates</h5>"
   ]
  },
  {
   "cell_type": "code",
   "execution_count": 16,
   "id": "aa3949be",
   "metadata": {},
   "outputs": [],
   "source": [
    "df[\"Year\"] = df[\"date\"].dt.year"
   ]
  },
  {
   "cell_type": "markdown",
   "id": "bdf69ee3",
   "metadata": {},
   "source": [
    "<h5>2. Creating new column month the dates</h5>"
   ]
  },
  {
   "cell_type": "code",
   "execution_count": 17,
   "id": "2c772567",
   "metadata": {},
   "outputs": [],
   "source": [
    "df[\"Month\"] = df[\"date\"].dt.month"
   ]
  },
  {
   "cell_type": "markdown",
   "id": "9a82da4b",
   "metadata": {},
   "source": [
    "<h5>3. Creating new column day the dates</h5>"
   ]
  },
  {
   "cell_type": "code",
   "execution_count": 18,
   "id": "f5534a12",
   "metadata": {},
   "outputs": [],
   "source": [
    "df[\"Day\"] = df[\"date\"].dt.day"
   ]
  },
  {
   "cell_type": "markdown",
   "id": "6059bbd6",
   "metadata": {},
   "source": [
    "<center><h4 style=\"color:green\">You can observe, newly columns added in Dataframe</h4></center>"
   ]
  },
  {
   "cell_type": "code",
   "execution_count": 19,
   "id": "33cf7252",
   "metadata": {},
   "outputs": [
    {
     "data": {
      "text/html": [
       "<div>\n",
       "<style scoped>\n",
       "    .dataframe tbody tr th:only-of-type {\n",
       "        vertical-align: middle;\n",
       "    }\n",
       "\n",
       "    .dataframe tbody tr th {\n",
       "        vertical-align: top;\n",
       "    }\n",
       "\n",
       "    .dataframe thead th {\n",
       "        text-align: right;\n",
       "    }\n",
       "</style>\n",
       "<table border=\"1\" class=\"dataframe\">\n",
       "  <thead>\n",
       "    <tr style=\"text-align: right;\">\n",
       "      <th></th>\n",
       "      <th>id</th>\n",
       "      <th>city</th>\n",
       "      <th>date</th>\n",
       "      <th>player_of_match</th>\n",
       "      <th>venue</th>\n",
       "      <th>neutral_venue</th>\n",
       "      <th>team1</th>\n",
       "      <th>team2</th>\n",
       "      <th>toss_winner</th>\n",
       "      <th>toss_decision</th>\n",
       "      <th>winner</th>\n",
       "      <th>result</th>\n",
       "      <th>result_margin</th>\n",
       "      <th>eliminator</th>\n",
       "      <th>method</th>\n",
       "      <th>umpire1</th>\n",
       "      <th>umpire2</th>\n",
       "      <th>Year</th>\n",
       "      <th>Month</th>\n",
       "      <th>Day</th>\n",
       "    </tr>\n",
       "  </thead>\n",
       "  <tbody>\n",
       "    <tr>\n",
       "      <th>0</th>\n",
       "      <td>335982</td>\n",
       "      <td>Bangalore</td>\n",
       "      <td>2008-04-18</td>\n",
       "      <td>BB McCullum</td>\n",
       "      <td>M Chinnaswamy Stadium</td>\n",
       "      <td>0</td>\n",
       "      <td>Royal Challengers Bangalore</td>\n",
       "      <td>Kolkata Knight Riders</td>\n",
       "      <td>Royal Challengers Bangalore</td>\n",
       "      <td>field</td>\n",
       "      <td>Kolkata Knight Riders</td>\n",
       "      <td>runs</td>\n",
       "      <td>140.0</td>\n",
       "      <td>N</td>\n",
       "      <td>NaN</td>\n",
       "      <td>Asad Rauf</td>\n",
       "      <td>RE Koertzen</td>\n",
       "      <td>2008</td>\n",
       "      <td>4</td>\n",
       "      <td>18</td>\n",
       "    </tr>\n",
       "    <tr>\n",
       "      <th>1</th>\n",
       "      <td>335983</td>\n",
       "      <td>Chandigarh</td>\n",
       "      <td>2008-04-19</td>\n",
       "      <td>MEK Hussey</td>\n",
       "      <td>Punjab Cricket Association Stadium, Mohali</td>\n",
       "      <td>0</td>\n",
       "      <td>Kings XI Punjab</td>\n",
       "      <td>Chennai Super Kings</td>\n",
       "      <td>Chennai Super Kings</td>\n",
       "      <td>bat</td>\n",
       "      <td>Chennai Super Kings</td>\n",
       "      <td>runs</td>\n",
       "      <td>33.0</td>\n",
       "      <td>N</td>\n",
       "      <td>NaN</td>\n",
       "      <td>MR Benson</td>\n",
       "      <td>SL Shastri</td>\n",
       "      <td>2008</td>\n",
       "      <td>4</td>\n",
       "      <td>19</td>\n",
       "    </tr>\n",
       "  </tbody>\n",
       "</table>\n",
       "</div>"
      ],
      "text/plain": [
       "       id        city       date player_of_match  \\\n",
       "0  335982   Bangalore 2008-04-18     BB McCullum   \n",
       "1  335983  Chandigarh 2008-04-19      MEK Hussey   \n",
       "\n",
       "                                        venue  neutral_venue  \\\n",
       "0                       M Chinnaswamy Stadium              0   \n",
       "1  Punjab Cricket Association Stadium, Mohali              0   \n",
       "\n",
       "                         team1                  team2  \\\n",
       "0  Royal Challengers Bangalore  Kolkata Knight Riders   \n",
       "1              Kings XI Punjab    Chennai Super Kings   \n",
       "\n",
       "                   toss_winner toss_decision                 winner result  \\\n",
       "0  Royal Challengers Bangalore         field  Kolkata Knight Riders   runs   \n",
       "1          Chennai Super Kings           bat    Chennai Super Kings   runs   \n",
       "\n",
       "   result_margin eliminator method    umpire1      umpire2  Year  Month  Day  \n",
       "0          140.0          N    NaN  Asad Rauf  RE Koertzen  2008      4   18  \n",
       "1           33.0          N    NaN  MR Benson   SL Shastri  2008      4   19  "
      ]
     },
     "execution_count": 19,
     "metadata": {},
     "output_type": "execute_result"
    }
   ],
   "source": [
    "df.head(2)"
   ]
  },
  {
   "cell_type": "markdown",
   "id": "943f3d4f",
   "metadata": {},
   "source": [
    "<h4>We can also know which columns don't have Numeric Data</h4>\n",
    "<h5>1. Columns with <code>True</code> are not having Numeric data</h5>\n",
    "<h5>2. Columns with <code>False</code> are having numeric data</h5>"
   ]
  },
  {
   "cell_type": "code",
   "execution_count": 20,
   "id": "09b924f3",
   "metadata": {},
   "outputs": [
    {
     "data": {
      "text/plain": [
       "id                 False\n",
       "city                True\n",
       "date               False\n",
       "player_of_match     True\n",
       "venue              False\n",
       "neutral_venue      False\n",
       "team1              False\n",
       "team2              False\n",
       "toss_winner        False\n",
       "toss_decision      False\n",
       "winner              True\n",
       "result              True\n",
       "result_margin       True\n",
       "eliminator          True\n",
       "method              True\n",
       "umpire1            False\n",
       "umpire2            False\n",
       "Year               False\n",
       "Month              False\n",
       "Day                False\n",
       "dtype: bool"
      ]
     },
     "execution_count": 20,
     "metadata": {},
     "output_type": "execute_result"
    }
   ],
   "source": [
    "df.isna().any()"
   ]
  },
  {
   "cell_type": "markdown",
   "id": "ec46c757",
   "metadata": {},
   "source": [
    "<h4>Explore which Rows have Null Values</h4>"
   ]
  },
  {
   "cell_type": "code",
   "execution_count": 21,
   "id": "c8af2911",
   "metadata": {},
   "outputs": [
    {
     "data": {
      "text/html": [
       "<div>\n",
       "<style scoped>\n",
       "    .dataframe tbody tr th:only-of-type {\n",
       "        vertical-align: middle;\n",
       "    }\n",
       "\n",
       "    .dataframe tbody tr th {\n",
       "        vertical-align: top;\n",
       "    }\n",
       "\n",
       "    .dataframe thead th {\n",
       "        text-align: right;\n",
       "    }\n",
       "</style>\n",
       "<table border=\"1\" class=\"dataframe\">\n",
       "  <thead>\n",
       "    <tr style=\"text-align: right;\">\n",
       "      <th></th>\n",
       "      <th>id</th>\n",
       "      <th>city</th>\n",
       "      <th>date</th>\n",
       "      <th>player_of_match</th>\n",
       "      <th>venue</th>\n",
       "      <th>neutral_venue</th>\n",
       "      <th>team1</th>\n",
       "      <th>team2</th>\n",
       "      <th>toss_winner</th>\n",
       "      <th>toss_decision</th>\n",
       "      <th>winner</th>\n",
       "      <th>result</th>\n",
       "      <th>result_margin</th>\n",
       "      <th>eliminator</th>\n",
       "      <th>method</th>\n",
       "      <th>umpire1</th>\n",
       "      <th>umpire2</th>\n",
       "      <th>Year</th>\n",
       "      <th>Month</th>\n",
       "      <th>Day</th>\n",
       "    </tr>\n",
       "  </thead>\n",
       "  <tbody>\n",
       "    <tr>\n",
       "      <th>399</th>\n",
       "      <td>729281</td>\n",
       "      <td>NaN</td>\n",
       "      <td>2014-04-17</td>\n",
       "      <td>YS Chahal</td>\n",
       "      <td>Sharjah Cricket Stadium</td>\n",
       "      <td>1</td>\n",
       "      <td>Delhi Daredevils</td>\n",
       "      <td>Royal Challengers Bangalore</td>\n",
       "      <td>Royal Challengers Bangalore</td>\n",
       "      <td>field</td>\n",
       "      <td>Royal Challengers Bangalore</td>\n",
       "      <td>wickets</td>\n",
       "      <td>8.0</td>\n",
       "      <td>N</td>\n",
       "      <td>NaN</td>\n",
       "      <td>Aleem Dar</td>\n",
       "      <td>S Ravi</td>\n",
       "      <td>2014</td>\n",
       "      <td>4</td>\n",
       "      <td>17</td>\n",
       "    </tr>\n",
       "    <tr>\n",
       "      <th>402</th>\n",
       "      <td>729287</td>\n",
       "      <td>NaN</td>\n",
       "      <td>2014-04-19</td>\n",
       "      <td>PA Patel</td>\n",
       "      <td>Dubai International Cricket Stadium</td>\n",
       "      <td>1</td>\n",
       "      <td>Royal Challengers Bangalore</td>\n",
       "      <td>Mumbai Indians</td>\n",
       "      <td>Royal Challengers Bangalore</td>\n",
       "      <td>field</td>\n",
       "      <td>Royal Challengers Bangalore</td>\n",
       "      <td>wickets</td>\n",
       "      <td>7.0</td>\n",
       "      <td>N</td>\n",
       "      <td>NaN</td>\n",
       "      <td>Aleem Dar</td>\n",
       "      <td>AK Chaudhary</td>\n",
       "      <td>2014</td>\n",
       "      <td>4</td>\n",
       "      <td>19</td>\n",
       "    </tr>\n",
       "    <tr>\n",
       "      <th>403</th>\n",
       "      <td>729289</td>\n",
       "      <td>NaN</td>\n",
       "      <td>2014-04-19</td>\n",
       "      <td>JP Duminy</td>\n",
       "      <td>Dubai International Cricket Stadium</td>\n",
       "      <td>1</td>\n",
       "      <td>Kolkata Knight Riders</td>\n",
       "      <td>Delhi Daredevils</td>\n",
       "      <td>Kolkata Knight Riders</td>\n",
       "      <td>bat</td>\n",
       "      <td>Delhi Daredevils</td>\n",
       "      <td>wickets</td>\n",
       "      <td>4.0</td>\n",
       "      <td>N</td>\n",
       "      <td>NaN</td>\n",
       "      <td>Aleem Dar</td>\n",
       "      <td>VA Kulkarni</td>\n",
       "      <td>2014</td>\n",
       "      <td>4</td>\n",
       "      <td>19</td>\n",
       "    </tr>\n",
       "    <tr>\n",
       "      <th>404</th>\n",
       "      <td>729291</td>\n",
       "      <td>NaN</td>\n",
       "      <td>2014-04-20</td>\n",
       "      <td>GJ Maxwell</td>\n",
       "      <td>Sharjah Cricket Stadium</td>\n",
       "      <td>1</td>\n",
       "      <td>Rajasthan Royals</td>\n",
       "      <td>Kings XI Punjab</td>\n",
       "      <td>Kings XI Punjab</td>\n",
       "      <td>field</td>\n",
       "      <td>Kings XI Punjab</td>\n",
       "      <td>wickets</td>\n",
       "      <td>7.0</td>\n",
       "      <td>N</td>\n",
       "      <td>NaN</td>\n",
       "      <td>BF Bowden</td>\n",
       "      <td>M Erasmus</td>\n",
       "      <td>2014</td>\n",
       "      <td>4</td>\n",
       "      <td>20</td>\n",
       "    </tr>\n",
       "    <tr>\n",
       "      <th>406</th>\n",
       "      <td>729295</td>\n",
       "      <td>NaN</td>\n",
       "      <td>2014-04-22</td>\n",
       "      <td>GJ Maxwell</td>\n",
       "      <td>Sharjah Cricket Stadium</td>\n",
       "      <td>1</td>\n",
       "      <td>Kings XI Punjab</td>\n",
       "      <td>Sunrisers Hyderabad</td>\n",
       "      <td>Sunrisers Hyderabad</td>\n",
       "      <td>field</td>\n",
       "      <td>Kings XI Punjab</td>\n",
       "      <td>runs</td>\n",
       "      <td>72.0</td>\n",
       "      <td>N</td>\n",
       "      <td>NaN</td>\n",
       "      <td>M Erasmus</td>\n",
       "      <td>S Ravi</td>\n",
       "      <td>2014</td>\n",
       "      <td>4</td>\n",
       "      <td>22</td>\n",
       "    </tr>\n",
       "    <tr>\n",
       "      <th>407</th>\n",
       "      <td>729297</td>\n",
       "      <td>NaN</td>\n",
       "      <td>2014-04-23</td>\n",
       "      <td>RA Jadeja</td>\n",
       "      <td>Dubai International Cricket Stadium</td>\n",
       "      <td>1</td>\n",
       "      <td>Rajasthan Royals</td>\n",
       "      <td>Chennai Super Kings</td>\n",
       "      <td>Rajasthan Royals</td>\n",
       "      <td>field</td>\n",
       "      <td>Chennai Super Kings</td>\n",
       "      <td>runs</td>\n",
       "      <td>7.0</td>\n",
       "      <td>N</td>\n",
       "      <td>NaN</td>\n",
       "      <td>HDPK Dharmasena</td>\n",
       "      <td>RK Illingworth</td>\n",
       "      <td>2014</td>\n",
       "      <td>4</td>\n",
       "      <td>23</td>\n",
       "    </tr>\n",
       "    <tr>\n",
       "      <th>408</th>\n",
       "      <td>729299</td>\n",
       "      <td>NaN</td>\n",
       "      <td>2014-04-24</td>\n",
       "      <td>CA Lynn</td>\n",
       "      <td>Sharjah Cricket Stadium</td>\n",
       "      <td>1</td>\n",
       "      <td>Royal Challengers Bangalore</td>\n",
       "      <td>Kolkata Knight Riders</td>\n",
       "      <td>Royal Challengers Bangalore</td>\n",
       "      <td>field</td>\n",
       "      <td>Kolkata Knight Riders</td>\n",
       "      <td>runs</td>\n",
       "      <td>2.0</td>\n",
       "      <td>N</td>\n",
       "      <td>NaN</td>\n",
       "      <td>Aleem Dar</td>\n",
       "      <td>VA Kulkarni</td>\n",
       "      <td>2014</td>\n",
       "      <td>4</td>\n",
       "      <td>24</td>\n",
       "    </tr>\n",
       "    <tr>\n",
       "      <th>409</th>\n",
       "      <td>729301</td>\n",
       "      <td>NaN</td>\n",
       "      <td>2014-04-25</td>\n",
       "      <td>AJ Finch</td>\n",
       "      <td>Dubai International Cricket Stadium</td>\n",
       "      <td>1</td>\n",
       "      <td>Sunrisers Hyderabad</td>\n",
       "      <td>Delhi Daredevils</td>\n",
       "      <td>Sunrisers Hyderabad</td>\n",
       "      <td>bat</td>\n",
       "      <td>Sunrisers Hyderabad</td>\n",
       "      <td>runs</td>\n",
       "      <td>4.0</td>\n",
       "      <td>N</td>\n",
       "      <td>NaN</td>\n",
       "      <td>M Erasmus</td>\n",
       "      <td>S Ravi</td>\n",
       "      <td>2014</td>\n",
       "      <td>4</td>\n",
       "      <td>25</td>\n",
       "    </tr>\n",
       "    <tr>\n",
       "      <th>410</th>\n",
       "      <td>729303</td>\n",
       "      <td>NaN</td>\n",
       "      <td>2014-04-25</td>\n",
       "      <td>MM Sharma</td>\n",
       "      <td>Dubai International Cricket Stadium</td>\n",
       "      <td>1</td>\n",
       "      <td>Chennai Super Kings</td>\n",
       "      <td>Mumbai Indians</td>\n",
       "      <td>Mumbai Indians</td>\n",
       "      <td>bat</td>\n",
       "      <td>Chennai Super Kings</td>\n",
       "      <td>wickets</td>\n",
       "      <td>7.0</td>\n",
       "      <td>N</td>\n",
       "      <td>NaN</td>\n",
       "      <td>BF Bowden</td>\n",
       "      <td>M Erasmus</td>\n",
       "      <td>2014</td>\n",
       "      <td>4</td>\n",
       "      <td>25</td>\n",
       "    </tr>\n",
       "    <tr>\n",
       "      <th>413</th>\n",
       "      <td>729309</td>\n",
       "      <td>NaN</td>\n",
       "      <td>2014-04-27</td>\n",
       "      <td>M Vijay</td>\n",
       "      <td>Sharjah Cricket Stadium</td>\n",
       "      <td>1</td>\n",
       "      <td>Delhi Daredevils</td>\n",
       "      <td>Mumbai Indians</td>\n",
       "      <td>Mumbai Indians</td>\n",
       "      <td>bat</td>\n",
       "      <td>Delhi Daredevils</td>\n",
       "      <td>wickets</td>\n",
       "      <td>6.0</td>\n",
       "      <td>N</td>\n",
       "      <td>NaN</td>\n",
       "      <td>Aleem Dar</td>\n",
       "      <td>VA Kulkarni</td>\n",
       "      <td>2014</td>\n",
       "      <td>4</td>\n",
       "      <td>27</td>\n",
       "    </tr>\n",
       "    <tr>\n",
       "      <th>414</th>\n",
       "      <td>729311</td>\n",
       "      <td>NaN</td>\n",
       "      <td>2014-04-27</td>\n",
       "      <td>DR Smith</td>\n",
       "      <td>Sharjah Cricket Stadium</td>\n",
       "      <td>1</td>\n",
       "      <td>Sunrisers Hyderabad</td>\n",
       "      <td>Chennai Super Kings</td>\n",
       "      <td>Sunrisers Hyderabad</td>\n",
       "      <td>bat</td>\n",
       "      <td>Chennai Super Kings</td>\n",
       "      <td>wickets</td>\n",
       "      <td>5.0</td>\n",
       "      <td>N</td>\n",
       "      <td>NaN</td>\n",
       "      <td>AK Chaudhary</td>\n",
       "      <td>VA Kulkarni</td>\n",
       "      <td>2014</td>\n",
       "      <td>4</td>\n",
       "      <td>27</td>\n",
       "    </tr>\n",
       "    <tr>\n",
       "      <th>415</th>\n",
       "      <td>729313</td>\n",
       "      <td>NaN</td>\n",
       "      <td>2014-04-28</td>\n",
       "      <td>Sandeep Sharma</td>\n",
       "      <td>Dubai International Cricket Stadium</td>\n",
       "      <td>1</td>\n",
       "      <td>Kings XI Punjab</td>\n",
       "      <td>Royal Challengers Bangalore</td>\n",
       "      <td>Kings XI Punjab</td>\n",
       "      <td>field</td>\n",
       "      <td>Kings XI Punjab</td>\n",
       "      <td>wickets</td>\n",
       "      <td>5.0</td>\n",
       "      <td>N</td>\n",
       "      <td>NaN</td>\n",
       "      <td>BF Bowden</td>\n",
       "      <td>S Ravi</td>\n",
       "      <td>2014</td>\n",
       "      <td>4</td>\n",
       "      <td>28</td>\n",
       "    </tr>\n",
       "    <tr>\n",
       "      <th>417</th>\n",
       "      <td>729317</td>\n",
       "      <td>NaN</td>\n",
       "      <td>2014-04-30</td>\n",
       "      <td>B Kumar</td>\n",
       "      <td>Dubai International Cricket Stadium</td>\n",
       "      <td>1</td>\n",
       "      <td>Mumbai Indians</td>\n",
       "      <td>Sunrisers Hyderabad</td>\n",
       "      <td>Mumbai Indians</td>\n",
       "      <td>field</td>\n",
       "      <td>Sunrisers Hyderabad</td>\n",
       "      <td>runs</td>\n",
       "      <td>15.0</td>\n",
       "      <td>N</td>\n",
       "      <td>NaN</td>\n",
       "      <td>HDPK Dharmasena</td>\n",
       "      <td>M Erasmus</td>\n",
       "      <td>2014</td>\n",
       "      <td>4</td>\n",
       "      <td>30</td>\n",
       "    </tr>\n",
       "  </tbody>\n",
       "</table>\n",
       "</div>"
      ],
      "text/plain": [
       "         id city       date player_of_match  \\\n",
       "399  729281  NaN 2014-04-17       YS Chahal   \n",
       "402  729287  NaN 2014-04-19        PA Patel   \n",
       "403  729289  NaN 2014-04-19       JP Duminy   \n",
       "404  729291  NaN 2014-04-20      GJ Maxwell   \n",
       "406  729295  NaN 2014-04-22      GJ Maxwell   \n",
       "407  729297  NaN 2014-04-23       RA Jadeja   \n",
       "408  729299  NaN 2014-04-24         CA Lynn   \n",
       "409  729301  NaN 2014-04-25        AJ Finch   \n",
       "410  729303  NaN 2014-04-25       MM Sharma   \n",
       "413  729309  NaN 2014-04-27         M Vijay   \n",
       "414  729311  NaN 2014-04-27        DR Smith   \n",
       "415  729313  NaN 2014-04-28  Sandeep Sharma   \n",
       "417  729317  NaN 2014-04-30         B Kumar   \n",
       "\n",
       "                                   venue  neutral_venue  \\\n",
       "399              Sharjah Cricket Stadium              1   \n",
       "402  Dubai International Cricket Stadium              1   \n",
       "403  Dubai International Cricket Stadium              1   \n",
       "404              Sharjah Cricket Stadium              1   \n",
       "406              Sharjah Cricket Stadium              1   \n",
       "407  Dubai International Cricket Stadium              1   \n",
       "408              Sharjah Cricket Stadium              1   \n",
       "409  Dubai International Cricket Stadium              1   \n",
       "410  Dubai International Cricket Stadium              1   \n",
       "413              Sharjah Cricket Stadium              1   \n",
       "414              Sharjah Cricket Stadium              1   \n",
       "415  Dubai International Cricket Stadium              1   \n",
       "417  Dubai International Cricket Stadium              1   \n",
       "\n",
       "                           team1                        team2  \\\n",
       "399             Delhi Daredevils  Royal Challengers Bangalore   \n",
       "402  Royal Challengers Bangalore               Mumbai Indians   \n",
       "403        Kolkata Knight Riders             Delhi Daredevils   \n",
       "404             Rajasthan Royals              Kings XI Punjab   \n",
       "406              Kings XI Punjab          Sunrisers Hyderabad   \n",
       "407             Rajasthan Royals          Chennai Super Kings   \n",
       "408  Royal Challengers Bangalore        Kolkata Knight Riders   \n",
       "409          Sunrisers Hyderabad             Delhi Daredevils   \n",
       "410          Chennai Super Kings               Mumbai Indians   \n",
       "413             Delhi Daredevils               Mumbai Indians   \n",
       "414          Sunrisers Hyderabad          Chennai Super Kings   \n",
       "415              Kings XI Punjab  Royal Challengers Bangalore   \n",
       "417               Mumbai Indians          Sunrisers Hyderabad   \n",
       "\n",
       "                     toss_winner toss_decision                       winner  \\\n",
       "399  Royal Challengers Bangalore         field  Royal Challengers Bangalore   \n",
       "402  Royal Challengers Bangalore         field  Royal Challengers Bangalore   \n",
       "403        Kolkata Knight Riders           bat             Delhi Daredevils   \n",
       "404              Kings XI Punjab         field              Kings XI Punjab   \n",
       "406          Sunrisers Hyderabad         field              Kings XI Punjab   \n",
       "407             Rajasthan Royals         field          Chennai Super Kings   \n",
       "408  Royal Challengers Bangalore         field        Kolkata Knight Riders   \n",
       "409          Sunrisers Hyderabad           bat          Sunrisers Hyderabad   \n",
       "410               Mumbai Indians           bat          Chennai Super Kings   \n",
       "413               Mumbai Indians           bat             Delhi Daredevils   \n",
       "414          Sunrisers Hyderabad           bat          Chennai Super Kings   \n",
       "415              Kings XI Punjab         field              Kings XI Punjab   \n",
       "417               Mumbai Indians         field          Sunrisers Hyderabad   \n",
       "\n",
       "      result  result_margin eliminator method          umpire1  \\\n",
       "399  wickets            8.0          N    NaN        Aleem Dar   \n",
       "402  wickets            7.0          N    NaN        Aleem Dar   \n",
       "403  wickets            4.0          N    NaN        Aleem Dar   \n",
       "404  wickets            7.0          N    NaN        BF Bowden   \n",
       "406     runs           72.0          N    NaN        M Erasmus   \n",
       "407     runs            7.0          N    NaN  HDPK Dharmasena   \n",
       "408     runs            2.0          N    NaN        Aleem Dar   \n",
       "409     runs            4.0          N    NaN        M Erasmus   \n",
       "410  wickets            7.0          N    NaN        BF Bowden   \n",
       "413  wickets            6.0          N    NaN        Aleem Dar   \n",
       "414  wickets            5.0          N    NaN     AK Chaudhary   \n",
       "415  wickets            5.0          N    NaN        BF Bowden   \n",
       "417     runs           15.0          N    NaN  HDPK Dharmasena   \n",
       "\n",
       "            umpire2  Year  Month  Day  \n",
       "399          S Ravi  2014      4   17  \n",
       "402    AK Chaudhary  2014      4   19  \n",
       "403     VA Kulkarni  2014      4   19  \n",
       "404       M Erasmus  2014      4   20  \n",
       "406          S Ravi  2014      4   22  \n",
       "407  RK Illingworth  2014      4   23  \n",
       "408     VA Kulkarni  2014      4   24  \n",
       "409          S Ravi  2014      4   25  \n",
       "410       M Erasmus  2014      4   25  \n",
       "413     VA Kulkarni  2014      4   27  \n",
       "414     VA Kulkarni  2014      4   27  \n",
       "415          S Ravi  2014      4   28  \n",
       "417       M Erasmus  2014      4   30  "
      ]
     },
     "execution_count": 21,
     "metadata": {},
     "output_type": "execute_result"
    }
   ],
   "source": [
    "# Checking the null values of city \n",
    "# These following Rows contains null values in City Columns \n",
    "df[df[\"city\"].isnull()]"
   ]
  },
  {
   "cell_type": "markdown",
   "id": "964b1b60",
   "metadata": {},
   "source": [
    "<h5>1. Get the index of rows where city is  null when venue is Sharjah Cricket Stadium</h5>"
   ]
  },
  {
   "cell_type": "code",
   "execution_count": 22,
   "id": "76e5cd11",
   "metadata": {},
   "outputs": [
    {
     "data": {
      "text/plain": [
       "Int64Index([399, 404, 406, 408, 413, 414], dtype='int64')"
      ]
     },
     "execution_count": 22,
     "metadata": {},
     "output_type": "execute_result"
    }
   ],
   "source": [
    "df[(df[\"city\"].isnull()) & (df[\"venue\"] == \"Sharjah Cricket Stadium\")].index"
   ]
  },
  {
   "cell_type": "markdown",
   "id": "0639be89",
   "metadata": {},
   "source": [
    "<h5>2. Replacing the null values of city by Dubai where venue is Sharjah Cricket Stadium</h5>"
   ]
  },
  {
   "cell_type": "code",
   "execution_count": 23,
   "id": "c771113d",
   "metadata": {},
   "outputs": [],
   "source": [
    "for i in [399, 404, 406, 408, 413, 414]:\n",
    "  df[\"city\"][i] = \"Sharjah\""
   ]
  },
  {
   "cell_type": "markdown",
   "id": "404baf20",
   "metadata": {},
   "source": [
    "<h5>3. Get the index of rows where city is  null when venue is Dubai International Cricket Stadium</h5>"
   ]
  },
  {
   "cell_type": "code",
   "execution_count": 24,
   "id": "e93d9bce",
   "metadata": {},
   "outputs": [
    {
     "data": {
      "text/plain": [
       "Int64Index([402, 403, 407, 409, 410, 415, 417], dtype='int64')"
      ]
     },
     "execution_count": 24,
     "metadata": {},
     "output_type": "execute_result"
    }
   ],
   "source": [
    "df[(df[\"city\"].isnull()) & (df[\"venue\"] == \"Dubai International Cricket Stadium\")].index"
   ]
  },
  {
   "cell_type": "markdown",
   "id": "2f8b22af",
   "metadata": {},
   "source": [
    "<h5>4. Replacing the null values of city by Dubai where venue is Dubai International Cricket Stadium</h5> "
   ]
  },
  {
   "cell_type": "code",
   "execution_count": 25,
   "id": "70a759f7",
   "metadata": {},
   "outputs": [],
   "source": [
    "for i in [402, 403, 407, 409, 410, 415, 417]:\n",
    "  df[\"city\"][i] = \"Dubai\""
   ]
  },
  {
   "cell_type": "code",
   "execution_count": 26,
   "id": "e454606b",
   "metadata": {},
   "outputs": [],
   "source": [
    "# Now you can observe, City Columns does not have any Null Value"
   ]
  },
  {
   "cell_type": "code",
   "execution_count": 27,
   "id": "b4275038",
   "metadata": {},
   "outputs": [
    {
     "data": {
      "text/plain": [
       "id                   0\n",
       "city                 0\n",
       "date                 0\n",
       "player_of_match      4\n",
       "venue                0\n",
       "neutral_venue        0\n",
       "team1                0\n",
       "team2                0\n",
       "toss_winner          0\n",
       "toss_decision        0\n",
       "winner               4\n",
       "result               4\n",
       "result_margin       17\n",
       "eliminator           4\n",
       "method             797\n",
       "umpire1              0\n",
       "umpire2              0\n",
       "Year                 0\n",
       "Month                0\n",
       "Day                  0\n",
       "dtype: int64"
      ]
     },
     "execution_count": 27,
     "metadata": {},
     "output_type": "execute_result"
    }
   ],
   "source": [
    "df.isnull().sum()"
   ]
  },
  {
   "cell_type": "markdown",
   "id": "89147d96",
   "metadata": {},
   "source": [
    "<h5><code>player_of_match</code> columns contains only 4 null rows, we will simply delete these rows </h5>"
   ]
  },
  {
   "cell_type": "code",
   "execution_count": 28,
   "id": "e594d7b4",
   "metadata": {},
   "outputs": [],
   "source": [
    "df = df.dropna(subset=['player_of_match'])"
   ]
  },
  {
   "cell_type": "code",
   "execution_count": 29,
   "id": "e29fb1b3",
   "metadata": {},
   "outputs": [
    {
     "data": {
      "text/plain": [
       "id                   0\n",
       "city                 0\n",
       "date                 0\n",
       "player_of_match      0\n",
       "venue                0\n",
       "neutral_venue        0\n",
       "team1                0\n",
       "team2                0\n",
       "toss_winner          0\n",
       "toss_decision        0\n",
       "winner               0\n",
       "result               0\n",
       "result_margin       13\n",
       "eliminator           0\n",
       "method             793\n",
       "umpire1              0\n",
       "umpire2              0\n",
       "Year                 0\n",
       "Month                0\n",
       "Day                  0\n",
       "dtype: int64"
      ]
     },
     "execution_count": 29,
     "metadata": {},
     "output_type": "execute_result"
    }
   ],
   "source": [
    "df.isnull().sum()"
   ]
  },
  {
   "cell_type": "markdown",
   "id": "206817bb",
   "metadata": {},
   "source": [
    "<h4>Replace values of column <code>result_margin</code> with <code>0</code></h4>"
   ]
  },
  {
   "cell_type": "code",
   "execution_count": 30,
   "id": "e49cbb72",
   "metadata": {},
   "outputs": [],
   "source": [
    "df[\"result_margin\"].fillna(0, inplace = True)"
   ]
  },
  {
   "cell_type": "code",
   "execution_count": 31,
   "id": "638face5",
   "metadata": {},
   "outputs": [
    {
     "data": {
      "text/plain": [
       "id                   0\n",
       "city                 0\n",
       "date                 0\n",
       "player_of_match      0\n",
       "venue                0\n",
       "neutral_venue        0\n",
       "team1                0\n",
       "team2                0\n",
       "toss_winner          0\n",
       "toss_decision        0\n",
       "winner               0\n",
       "result               0\n",
       "result_margin        0\n",
       "eliminator           0\n",
       "method             793\n",
       "umpire1              0\n",
       "umpire2              0\n",
       "Year                 0\n",
       "Month                0\n",
       "Day                  0\n",
       "dtype: int64"
      ]
     },
     "execution_count": 31,
     "metadata": {},
     "output_type": "execute_result"
    }
   ],
   "source": [
    "df.isnull().sum()"
   ]
  },
  {
   "cell_type": "code",
   "execution_count": 32,
   "id": "91dc75f9",
   "metadata": {},
   "outputs": [],
   "source": [
    "# Replacing the null values of method column by \"Usual_method\"\n",
    "df[\"method\"].fillna(\"Usual_method\", inplace = True)"
   ]
  },
  {
   "cell_type": "code",
   "execution_count": 33,
   "id": "802aef66",
   "metadata": {},
   "outputs": [
    {
     "data": {
      "text/plain": [
       "id                 0\n",
       "city               0\n",
       "date               0\n",
       "player_of_match    0\n",
       "venue              0\n",
       "neutral_venue      0\n",
       "team1              0\n",
       "team2              0\n",
       "toss_winner        0\n",
       "toss_decision      0\n",
       "winner             0\n",
       "result             0\n",
       "result_margin      0\n",
       "eliminator         0\n",
       "method             0\n",
       "umpire1            0\n",
       "umpire2            0\n",
       "Year               0\n",
       "Month              0\n",
       "Day                0\n",
       "dtype: int64"
      ]
     },
     "execution_count": 33,
     "metadata": {},
     "output_type": "execute_result"
    }
   ],
   "source": [
    "df.isnull().sum()"
   ]
  },
  {
   "cell_type": "markdown",
   "id": "337b9e16",
   "metadata": {},
   "source": [
    "<h4>Replacing Duplicate Values</h4>"
   ]
  },
  {
   "cell_type": "markdown",
   "id": "aecc7578",
   "metadata": {},
   "source": [
    "<h5> Identify Unique Values in <code>venue</code> column</h5>"
   ]
  },
  {
   "cell_type": "code",
   "execution_count": 34,
   "id": "16513d52",
   "metadata": {},
   "outputs": [
    {
     "data": {
      "text/plain": [
       "array(['M Chinnaswamy Stadium',\n",
       "       'Punjab Cricket Association Stadium, Mohali', 'Feroz Shah Kotla',\n",
       "       'Wankhede Stadium', 'Eden Gardens', 'Sawai Mansingh Stadium',\n",
       "       'Rajiv Gandhi International Stadium, Uppal',\n",
       "       'MA Chidambaram Stadium, Chepauk', 'Dr DY Patil Sports Academy',\n",
       "       'Newlands', \"St George's Park\", 'Kingsmead', 'SuperSport Park',\n",
       "       'Buffalo Park', 'New Wanderers Stadium', 'De Beers Diamond Oval',\n",
       "       'OUTsurance Oval', 'Brabourne Stadium',\n",
       "       'Sardar Patel Stadium, Motera', 'Barabati Stadium',\n",
       "       'Vidarbha Cricket Association Stadium, Jamtha',\n",
       "       'Himachal Pradesh Cricket Association Stadium', 'Nehru Stadium',\n",
       "       'Holkar Cricket Stadium',\n",
       "       'Dr. Y.S. Rajasekhara Reddy ACA-VDCA Cricket Stadium',\n",
       "       'Subrata Roy Sahara Stadium',\n",
       "       'Shaheed Veer Narayan Singh International Stadium',\n",
       "       'JSCA International Stadium Complex', 'Sheikh Zayed Stadium',\n",
       "       'Sharjah Cricket Stadium', 'Dubai International Cricket Stadium',\n",
       "       'Maharashtra Cricket Association Stadium',\n",
       "       'Punjab Cricket Association IS Bindra Stadium, Mohali',\n",
       "       'Saurashtra Cricket Association Stadium', 'Green Park',\n",
       "       'M.Chinnaswamy Stadium'], dtype=object)"
      ]
     },
     "execution_count": 34,
     "metadata": {},
     "output_type": "execute_result"
    }
   ],
   "source": [
    "df.venue.unique()"
   ]
  },
  {
   "cell_type": "markdown",
   "id": "808bd0fe",
   "metadata": {},
   "source": [
    "<h4>Issue:</h4>\n",
    "<h5>M Chinnaswamy Stadium is duplicated as M.Chinnaswamy Stadium  </h5>\n",
    "    "
   ]
  },
  {
   "cell_type": "code",
   "execution_count": 35,
   "id": "4fab145c",
   "metadata": {},
   "outputs": [],
   "source": [
    "# Replacing the \"M.Chinnaswamy Stadium\" by \"M Chinnaswamy Stadium\""
   ]
  },
  {
   "cell_type": "code",
   "execution_count": 36,
   "id": "bd75d544",
   "metadata": {},
   "outputs": [],
   "source": [
    "for i in df[\"venue\"]:\n",
    "  if i == \"M.Chinnaswamy Stadium\":\n",
    "    df[\"venue\"].replace(\"M.Chinnaswamy Stadium\", \"M Chinnaswamy Stadium\", inplace = True)"
   ]
  },
  {
   "cell_type": "code",
   "execution_count": 37,
   "id": "71479e27",
   "metadata": {},
   "outputs": [
    {
     "data": {
      "text/plain": [
       "array(['M Chinnaswamy Stadium',\n",
       "       'Punjab Cricket Association Stadium, Mohali', 'Feroz Shah Kotla',\n",
       "       'Wankhede Stadium', 'Eden Gardens', 'Sawai Mansingh Stadium',\n",
       "       'Rajiv Gandhi International Stadium, Uppal',\n",
       "       'MA Chidambaram Stadium, Chepauk', 'Dr DY Patil Sports Academy',\n",
       "       'Newlands', \"St George's Park\", 'Kingsmead', 'SuperSport Park',\n",
       "       'Buffalo Park', 'New Wanderers Stadium', 'De Beers Diamond Oval',\n",
       "       'OUTsurance Oval', 'Brabourne Stadium',\n",
       "       'Sardar Patel Stadium, Motera', 'Barabati Stadium',\n",
       "       'Vidarbha Cricket Association Stadium, Jamtha',\n",
       "       'Himachal Pradesh Cricket Association Stadium', 'Nehru Stadium',\n",
       "       'Holkar Cricket Stadium',\n",
       "       'Dr. Y.S. Rajasekhara Reddy ACA-VDCA Cricket Stadium',\n",
       "       'Subrata Roy Sahara Stadium',\n",
       "       'Shaheed Veer Narayan Singh International Stadium',\n",
       "       'JSCA International Stadium Complex', 'Sheikh Zayed Stadium',\n",
       "       'Sharjah Cricket Stadium', 'Dubai International Cricket Stadium',\n",
       "       'Maharashtra Cricket Association Stadium',\n",
       "       'Punjab Cricket Association IS Bindra Stadium, Mohali',\n",
       "       'Saurashtra Cricket Association Stadium', 'Green Park'],\n",
       "      dtype=object)"
      ]
     },
     "execution_count": 37,
     "metadata": {},
     "output_type": "execute_result"
    }
   ],
   "source": [
    "df[\"venue\"].unique()"
   ]
  },
  {
   "cell_type": "markdown",
   "id": "0d69ee5e",
   "metadata": {},
   "source": [
    "<center><h3 style=\"color:green\">Useful Insights, Interesting Patterns</h3></center>"
   ]
  },
  {
   "cell_type": "markdown",
   "id": "32abf4c3",
   "metadata": {},
   "source": [
    "<h4>How many total Matches are played?</h4>"
   ]
  },
  {
   "cell_type": "code",
   "execution_count": 38,
   "id": "865497ae",
   "metadata": {},
   "outputs": [
    {
     "data": {
      "text/plain": [
       "812"
      ]
     },
     "execution_count": 38,
     "metadata": {},
     "output_type": "execute_result"
    }
   ],
   "source": [
    "df[\"id\"].count()"
   ]
  },
  {
   "cell_type": "markdown",
   "id": "fe9cdd53",
   "metadata": {},
   "source": [
    "total 812 matches are played according to the given data Set"
   ]
  },
  {
   "cell_type": "markdown",
   "id": "4771cd72",
   "metadata": {},
   "source": [
    "<h4>How many IPL seasons data we have?</h4>"
   ]
  },
  {
   "cell_type": "code",
   "execution_count": 39,
   "id": "1dff782b",
   "metadata": {},
   "outputs": [
    {
     "data": {
      "text/plain": [
       "array([2008, 2009, 2010, 2011, 2012, 2013, 2014, 2015, 2016, 2017, 2018,\n",
       "       2019, 2020], dtype=int64)"
      ]
     },
     "execution_count": 39,
     "metadata": {},
     "output_type": "execute_result"
    }
   ],
   "source": [
    "df.Year.unique()"
   ]
  },
  {
   "cell_type": "code",
   "execution_count": 40,
   "id": "04a1ff8e",
   "metadata": {},
   "outputs": [
    {
     "data": {
      "text/plain": [
       "13"
      ]
     },
     "execution_count": 40,
     "metadata": {},
     "output_type": "execute_result"
    }
   ],
   "source": [
    "df.Year.nunique()"
   ]
  },
  {
   "cell_type": "markdown",
   "id": "5bf15699",
   "metadata": {},
   "source": [
    "We have data set of total 13 IPL's"
   ]
  },
  {
   "cell_type": "markdown",
   "id": "574bbfc9",
   "metadata": {},
   "source": [
    "<h4>Which match won by maximum margin of runs?</h4>"
   ]
  },
  {
   "cell_type": "code",
   "execution_count": 41,
   "id": "fcf2b92a",
   "metadata": {},
   "outputs": [
    {
     "data": {
      "text/plain": [
       "id                                                   1082638\n",
       "city                                               Hyderabad\n",
       "date                                     2017-05-08 00:00:00\n",
       "player_of_match                                     S Dhawan\n",
       "venue              Rajiv Gandhi International Stadium, Uppal\n",
       "neutral_venue                                              0\n",
       "team1                                    Sunrisers Hyderabad\n",
       "team2                                         Mumbai Indians\n",
       "toss_winner                                   Mumbai Indians\n",
       "toss_decision                                            bat\n",
       "winner                                   Sunrisers Hyderabad\n",
       "result                                               wickets\n",
       "result_margin                                            7.0\n",
       "eliminator                                                 N\n",
       "method                                          Usual_method\n",
       "umpire1                                KN Ananthapadmanabhan\n",
       "umpire2                                            M Erasmus\n",
       "Year                                                    2017\n",
       "Month                                                      5\n",
       "Day                                                        8\n",
       "Name: 623, dtype: object"
      ]
     },
     "execution_count": 41,
     "metadata": {},
     "output_type": "execute_result"
    }
   ],
   "source": [
    "df.iloc[df[\"result_margin\"].idxmax()]"
   ]
  },
  {
   "cell_type": "markdown",
   "id": "82326669",
   "metadata": {},
   "source": [
    "<h4>In which season heighest number of Matches were played?</h4>"
   ]
  },
  {
   "cell_type": "code",
   "execution_count": 42,
   "id": "f95af1d2",
   "metadata": {},
   "outputs": [
    {
     "data": {
      "text/plain": [
       "2013    76\n",
       "2012    74\n",
       "2011    72\n",
       "2010    60\n",
       "2014    60\n",
       "2016    60\n",
       "2018    60\n",
       "2020    60\n",
       "2017    59\n",
       "2019    59\n",
       "2008    58\n",
       "2009    57\n",
       "2015    57\n",
       "Name: Year, dtype: int64"
      ]
     },
     "execution_count": 42,
     "metadata": {},
     "output_type": "execute_result"
    }
   ],
   "source": [
    "df.Year.value_counts().sort_values(ascending = False )"
   ]
  },
  {
   "cell_type": "markdown",
   "id": "1f1809a4",
   "metadata": {},
   "source": [
    "<h4>Graphically Expolre above question</h4>"
   ]
  },
  {
   "cell_type": "code",
   "execution_count": 43,
   "id": "c00c9af7",
   "metadata": {},
   "outputs": [
    {
     "data": {
      "image/png": "[encoded data removed]",
      "text/plain": [
       "<Figure size 720x360 with 1 Axes>"
      ]
     },
     "metadata": {
      "needs_background": "light"
     },
     "output_type": "display_data"
    }
   ],
   "source": [
    "plt.figure(figsize = (10,5))\n",
    "sns.countplot(df.Year)\n",
    "plt.xlabel(\"Season\", fontsize = 20)\n",
    "plt.ylabel(\"Number of matches\",fontsize = 20 )\n",
    "plt.title(\"Number of matches played per Season\", fontsize = 22)\n",
    "plt.show()"
   ]
  },
  {
   "cell_type": "markdown",
   "id": "1a1c474e",
   "metadata": {},
   "source": [
    "<h4>Visualize the number of total matches played by each Team</h4>"
   ]
  },
  {
   "cell_type": "code",
   "execution_count": 44,
   "id": "9a6d71c9",
   "metadata": {},
   "outputs": [],
   "source": [
    "# Creating the variable list as matches and converting that into Series\n",
    "matches = list(df[\"team1\"]) + list(df[\"team2\"])\n",
    "matches = pd.Series(matches)"
   ]
  },
  {
   "cell_type": "code",
   "execution_count": 45,
   "id": "61075faa",
   "metadata": {},
   "outputs": [],
   "source": [
    "matches_df = pd.DataFrame(matches)"
   ]
  },
  {
   "cell_type": "code",
   "execution_count": 46,
   "id": "b1b43802",
   "metadata": {},
   "outputs": [
    {
     "data": {
      "text/plain": [
       "Mumbai Indians                 203\n",
       "Royal Challengers Bangalore    192\n",
       "Kolkata Knight Riders          192\n",
       "Kings XI Punjab                190\n",
       "Chennai Super Kings            178\n",
       "Rajasthan Royals               159\n",
       "Delhi Daredevils               159\n",
       "Sunrisers Hyderabad            124\n",
       "Deccan Chargers                 75\n",
       "Pune Warriors                   45\n",
       "Delhi Capitals                  33\n",
       "Gujarat Lions                   30\n",
       "Rising Pune Supergiant          16\n",
       "Rising Pune Supergiants         14\n",
       "Kochi Tuskers Kerala            14\n",
       "dtype: int64"
      ]
     },
     "execution_count": 46,
     "metadata": {},
     "output_type": "execute_result"
    }
   ],
   "source": [
    "# Number of matches played by each team\n",
    "matches.value_counts().sort_values(ascending = False)"
   ]
  },
  {
   "cell_type": "code",
   "execution_count": 47,
   "id": "b322d58b",
   "metadata": {},
   "outputs": [
    {
     "data": {
      "image/png": "[encoded data removed]",
      "text/plain": [
       "<Figure size 648x288 with 1 Axes>"
      ]
     },
     "metadata": {
      "needs_background": "light"
     },
     "output_type": "display_data"
    }
   ],
   "source": [
    "plt.figure(figsize=(9,4))\n",
    "sns.histplot(matches)\n",
    "plt.xticks(rotation = 90)\n",
    "plt.xlabel(\"Teams\", fontsize = 20)\n",
    "plt.ylabel(\"Number of matches\", fontsize = 20)\n",
    "plt.title(\"Number of matches played by each team\", fontsize = 22)\n",
    "plt.show()"
   ]
  },
  {
   "cell_type": "markdown",
   "id": "a0bcad4a",
   "metadata": {},
   "source": [
    "<h4>Which team Won Maximum Matches?</h4>"
   ]
  },
  {
   "cell_type": "code",
   "execution_count": 49,
   "id": "36acc0d4",
   "metadata": {},
   "outputs": [
    {
     "data": {
      "text/plain": [
       "Mumbai Indians                 120\n",
       "Chennai Super Kings            106\n",
       "Kolkata Knight Riders           99\n",
       "Royal Challengers Bangalore     91\n",
       "Kings XI Punjab                 88\n",
       "Rajasthan Royals                81\n",
       "Delhi Daredevils                67\n",
       "Sunrisers Hyderabad             66\n",
       "Deccan Chargers                 29\n",
       "Delhi Capitals                  19\n",
       "Gujarat Lions                   13\n",
       "Pune Warriors                   12\n",
       "Rising Pune Supergiant          10\n",
       "Kochi Tuskers Kerala             6\n",
       "Rising Pune Supergiants          5\n",
       "Name: winner, dtype: int64"
      ]
     },
     "execution_count": 49,
     "metadata": {},
     "output_type": "execute_result"
    }
   ],
   "source": [
    "df.winner.value_counts()"
   ]
  },
  {
   "cell_type": "code",
   "execution_count": 50,
   "id": "cc1d342f",
   "metadata": {},
   "outputs": [
    {
     "data": {
      "image/png": "[encoded data removed]",
      "text/plain": [
       "<Figure size 432x288 with 1 Axes>"
      ]
     },
     "metadata": {
      "needs_background": "light"
     },
     "output_type": "display_data"
    }
   ],
   "source": [
    "sns.barplot(x = df.winner.value_counts(), y = df.winner.value_counts().index)\n",
    "plt.xlabel(\"Number of wins\", fontsize = 20)\n",
    "plt.ylabel(\"Teams\",fontsize = 20)\n",
    "plt.title(\"Number of mathes won by each team\", fontsize = 22)\n",
    "plt.show()"
   ]
  },
  {
   "cell_type": "markdown",
   "id": "a6e685e5",
   "metadata": {},
   "source": [
    "<h4>Find top 10 Players, who got maximum times, Player of the Match title</h4>"
   ]
  },
  {
   "cell_type": "code",
   "execution_count": 52,
   "id": "a5c4b3be",
   "metadata": {},
   "outputs": [
    {
     "data": {
      "text/plain": [
       "AB de Villiers    23\n",
       "CH Gayle          22\n",
       "RG Sharma         18\n",
       "MS Dhoni          17\n",
       "DA Warner         17\n",
       "YK Pathan         16\n",
       "SR Watson         16\n",
       "SK Raina          14\n",
       "V Kohli           13\n",
       "G Gambhir         13\n",
       "Name: player_of_match, dtype: int64"
      ]
     },
     "execution_count": 52,
     "metadata": {},
     "output_type": "execute_result"
    }
   ],
   "source": [
    "df.player_of_match.value_counts().sort_values(ascending = False)[:10]"
   ]
  },
  {
   "cell_type": "code",
   "execution_count": 53,
   "id": "b8e5bdd5",
   "metadata": {},
   "outputs": [
    {
     "data": {
      "image/png": "[encoded data removed]",
      "text/plain": [
       "<Figure size 432x288 with 1 Axes>"
      ]
     },
     "metadata": {
      "needs_background": "light"
     },
     "output_type": "display_data"
    }
   ],
   "source": [
    "sns.barplot( x = df[\"player_of_match\"].value_counts(ascending = False)[:10], y = df[\"player_of_match\"].value_counts(ascending = False)[:10].index)\n",
    "plt.xlabel(\"Player of the Match in total Matches\", fontsize = 20)\n",
    "plt.ylabel(\"Player Name\", fontsize = 20)\n",
    "plt.title(\"Count of player of the match award won by top 10 players\", fontsize = 22)\n",
    "plt.show()"
   ]
  },
  {
   "cell_type": "markdown",
   "id": "cbefa60a",
   "metadata": {},
   "source": [
    "<h4>Count total Number of Matches played by each City</h4>"
   ]
  },
  {
   "cell_type": "code",
   "execution_count": 54,
   "id": "4f5d6c40",
   "metadata": {},
   "outputs": [
    {
     "data": {
      "text/plain": [
       "Mumbai            101\n",
       "Kolkata            77\n",
       "Delhi              73\n",
       "Hyderabad          64\n",
       "Bangalore          63\n",
       "Chennai            57\n",
       "Chandigarh         56\n",
       "Jaipur             47\n",
       "Pune               38\n",
       "Dubai              33\n",
       "Abu Dhabi          29\n",
       "Sharjah            18\n",
       "Durban             15\n",
       "Bengaluru          14\n",
       "Visakhapatnam      13\n",
       "Centurion          12\n",
       "Ahmedabad          12\n",
       "Rajkot             10\n",
       "Indore              9\n",
       "Dharamsala          9\n",
       "Johannesburg        8\n",
       "Port Elizabeth      7\n",
       "Cape Town           7\n",
       "Cuttack             7\n",
       "Ranchi              7\n",
       "Raipur              6\n",
       "Kochi               5\n",
       "Kanpur              4\n",
       "Nagpur              3\n",
       "East London         3\n",
       "Kimberley           3\n",
       "Bloemfontein        2\n",
       "Name: city, dtype: int64"
      ]
     },
     "execution_count": 54,
     "metadata": {},
     "output_type": "execute_result"
    }
   ],
   "source": [
    "df[\"city\"].value_counts().sort_values(ascending = False)"
   ]
  },
  {
   "cell_type": "code",
   "execution_count": 55,
   "id": "f239f341",
   "metadata": {},
   "outputs": [
    {
     "data": {
      "image/png": "[encoded data removed]",
      "text/plain": [
       "<Figure size 648x360 with 1 Axes>"
      ]
     },
     "metadata": {
      "needs_background": "light"
     },
     "output_type": "display_data"
    }
   ],
   "source": [
    "plt.figure(figsize=(9,5))\n",
    "sns.countplot(df[\"city\"].sort_values(ascending = True ))  # Sorting based on City names\n",
    "plt.xticks(rotation = 90)\n",
    "plt.xlabel(\"City\", fontsize = 20)\n",
    "plt.ylabel(\"Number of matches played\", fontsize = 20)\n",
    "plt.title(\"Number of matches played in each city\", fontsize = 22)\n",
    "plt.show()"
   ]
  },
  {
   "cell_type": "code",
   "execution_count": 56,
   "id": "b071c17e",
   "metadata": {},
   "outputs": [
    {
     "data": {
      "image/png": "[encoded data removed]",
      "text/plain": [
       "<Figure size 648x360 with 1 Axes>"
      ]
     },
     "metadata": {
      "needs_background": "light"
     },
     "output_type": "display_data"
    }
   ],
   "source": [
    "plt.figure(figsize=(9,5))\n",
    "df[\"city\"].value_counts().sort_values(ascending = False).plot(kind = \"bar\")\n",
    "plt.xticks(rotation = 90)\n",
    "plt.xlabel(\"City\", fontsize = 20)\n",
    "plt.ylabel(\"Number of matches played\", fontsize = 20)\n",
    "plt.title(\"Number of matches played in each city\", fontsize = 22)\n",
    "plt.show()"
   ]
  },
  {
   "cell_type": "markdown",
   "id": "6f0fe892",
   "metadata": {},
   "source": [
    "<h4>Does winning toss increases the chances of winning the match?</h4>"
   ]
  },
  {
   "cell_type": "code",
   "execution_count": 57,
   "id": "a7d435c7",
   "metadata": {},
   "outputs": [
    {
     "name": "stdout",
     "output_type": "stream",
     "text": [
      "Possibility of winning the match after winning toss:  51.48 %\n"
     ]
    },
    {
     "data": {
      "image/png": "[encoded data removed]",
      "text/plain": [
       "<Figure size 432x288 with 1 Axes>"
      ]
     },
     "metadata": {},
     "output_type": "display_data"
    }
   ],
   "source": [
    "x = len(df[df[\"winner\"]== df[\"toss_winner\"]]) # Number of matches won by teams when they won toss\n",
    "y = len(df)  # Total number of matches\n",
    "print(\"Possibility of winning the match after winning toss: \", round(x/y*100, 2),\"%\")\n",
    "plt.pie([x, y-x], autopct = \"%1.1f%%\")\n",
    "plt.legend([\"Toss_Won\",\"Toss_Lost\"], bbox_to_anchor = (1,1,))\n",
    "plt.show()"
   ]
  },
  {
   "cell_type": "code",
   "execution_count": 58,
   "id": "89bc95db",
   "metadata": {},
   "outputs": [
    {
     "name": "stdout",
     "output_type": "stream",
     "text": [
      "Winning percentage of team when the team elect to bat first:  45.45454545454545\n"
     ]
    },
    {
     "data": {
      "image/png": "[encoded data removed]",
      "text/plain": [
       "<Figure size 432x288 with 1 Axes>"
      ]
     },
     "metadata": {},
     "output_type": "display_data"
    }
   ],
   "source": [
    "# When won the toss and elected to Bat first\n",
    "x_bat_winner = len(df[(df[\"winner\"]==df[\"toss_winner\"]) & (df[\"toss_decision\"]== \"bat\")])\n",
    "y_bat = len(df[df[\"toss_decision\"] == \"bat\"])\n",
    "print(\"Winning percentage of team when the team elect to bat first: \",x_bat_winner/y_bat*100)\n",
    "\n",
    "plt.pie([x_bat_winner, y_bat -x_bat_winner ], autopct = \"%1.1f%%\")\n",
    "plt.legend([\"Won\", \"Lost\"], bbox_to_anchor = (1,1))\n",
    "plt.show()"
   ]
  },
  {
   "cell_type": "code",
   "execution_count": 59,
   "id": "318efb17",
   "metadata": {},
   "outputs": [
    {
     "name": "stdout",
     "output_type": "stream",
     "text": [
      "Winning percentage of team when the team elect to field first:  55.375253549695735\n"
     ]
    },
    {
     "data": {
      "image/png": "[encoded data removed]",
      "text/plain": [
       "<Figure size 432x288 with 1 Axes>"
      ]
     },
     "metadata": {},
     "output_type": "display_data"
    }
   ],
   "source": [
    "# When won the toss and elected to Field first\n",
    "x_field_winner = len(df[(df[\"winner\"]==df[\"toss_winner\"]) & (df[\"toss_decision\"]== \"field\")])\n",
    "y_field = len(df[df[\"toss_decision\"] == \"field\"])\n",
    "print(\"Winning percentage of team when the team elect to field first: \",x_field_winner/y_field*100)\n",
    "\n",
    "plt.pie([x_field_winner, y_field - x_field_winner ], autopct = \"%1.1f%%\")\n",
    "plt.legend([\"Won\", \"Lost\"], bbox_to_anchor = (1,1), loc = \"upper right\")\n",
    "plt.show()"
   ]
  }
 ],
 "metadata": {
  "kernelspec": {
   "display_name": "Python 3",
   "language": "python",
   "name": "python3"
  },
  "language_info": {
   "codemirror_mode": {
    "name": "ipython",
    "version": 3
   },
   "file_extension": ".py",
   "mimetype": "text/x-python",
   "name": "python",
   "nbconvert_exporter": "python",
   "pygments_lexer": "ipython3",
   "version": "3.8.8"
  }
 },
 "nbformat": 4,
 "nbformat_minor": 5
}
